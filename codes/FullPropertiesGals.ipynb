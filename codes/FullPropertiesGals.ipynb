{
 "cells": [
  {
   "cell_type": "markdown",
   "metadata": {},
   "source": [
    "# Updating some libraries"
   ]
  },
  {
   "cell_type": "code",
   "execution_count": 1,
   "metadata": {},
   "outputs": [
    {
     "name": "stdout",
     "output_type": "stream",
     "text": [
      "Collecting tqdm\n",
      "  Using cached https://files.pythonhosted.org/packages/8a/c4/d15f1e627fff25443ded77ea70a7b5532d6371498f9285d44d62587e209c/tqdm-4.64.0-py2.py3-none-any.whl\n",
      "Collecting importlib-resources; python_version < \"3.7\" (from tqdm)\n",
      "  Using cached https://files.pythonhosted.org/packages/24/1b/33e489669a94da3ef4562938cd306e8fa915e13939d7b8277cb5569cb405/importlib_resources-5.4.0-py3-none-any.whl\n",
      "Collecting zipp>=3.1.0; python_version < \"3.10\" (from importlib-resources; python_version < \"3.7\"->tqdm)\n",
      "  Using cached https://files.pythonhosted.org/packages/bd/df/d4a4974a3e3957fd1c1fa3082366d7fff6e428ddb55f074bf64876f8e8ad/zipp-3.6.0-py3-none-any.whl\n",
      "Installing collected packages: zipp, importlib-resources, tqdm\n",
      "Successfully installed importlib-resources-5.4.0 tqdm-4.64.0 zipp-3.6.0\n"
     ]
    }
   ],
   "source": [
    "!pip install tqdm"
   ]
  },
  {
   "cell_type": "code",
   "execution_count": 2,
   "metadata": {},
   "outputs": [
    {
     "name": "stdout",
     "output_type": "stream",
     "text": [
      "Collecting numpy\n",
      "  Using cached https://files.pythonhosted.org/packages/45/b2/6c7545bb7a38754d63048c7696804a0d947328125d81bf12beaa692c3ae3/numpy-1.19.5-cp36-cp36m-manylinux1_x86_64.whl\n",
      "Installing collected packages: numpy\n",
      "  Found existing installation: numpy 1.11.3\n",
      "    Uninstalling numpy-1.11.3:\n",
      "      Successfully uninstalled numpy-1.11.3\n",
      "Successfully installed numpy-1.19.5\n"
     ]
    }
   ],
   "source": [
    "!pip install --upgrade numpy"
   ]
  },
  {
   "cell_type": "code",
   "execution_count": 3,
   "metadata": {},
   "outputs": [
    {
     "name": "stdout",
     "output_type": "stream",
     "text": [
      "Collecting scipy\n",
      "  Using cached https://files.pythonhosted.org/packages/c8/89/63171228d5ced148f5ced50305c89e8576ffc695a90b58fe5bb602b910c2/scipy-1.5.4-cp36-cp36m-manylinux1_x86_64.whl\n",
      "Requirement already satisfied, skipping upgrade: numpy>=1.14.5 in /opt/conda/lib/python3.6/site-packages (from scipy) (1.19.5)\n",
      "Installing collected packages: scipy\n",
      "  Found existing installation: scipy 1.1.0\n",
      "    Uninstalling scipy-1.1.0:\n",
      "      Successfully uninstalled scipy-1.1.0\n",
      "Successfully installed scipy-1.5.4\n"
     ]
    }
   ],
   "source": [
    "!pip install --upgrade scipy"
   ]
  },
  {
   "cell_type": "markdown",
   "metadata": {},
   "source": [
    "# Importing the needed libraries"
   ]
  },
  {
   "cell_type": "code",
   "execution_count": 4,
   "metadata": {},
   "outputs": [],
   "source": [
    "import os\n",
    "import sys\n",
    "import time\n",
    "import argparse\n",
    "import requests\n",
    "import contextlib\n",
    "from tqdm import tqdm\n",
    "import tempfile\n",
    "import h5py\n",
    "import atexit\n",
    "import numpy as np\n",
    "from illustris_python.groupcat import loadSingle, loadHeader\n",
    "import illustris_python as il\n",
    "import matplotlib.pyplot as plt\n",
    "import mpl_toolkits.mplot3d as mpl3\n",
    "from numpy.linalg import eig\n",
    "from numpy.linalg import eigh\n",
    "from scipy.optimize import curve_fit, root\n",
    "from scipy.spatial.transform import Rotation as R\n",
    "from scipy.stats import binned_statistic\n",
    "from matplotlib.gridspec import GridSpec\n",
    "\n",
    "\n",
    "G     = 4.3e-6 # Grav. constant [kPc/M_{sun} (km/s)^2]\n",
    "H0    = 67.74 # Hubble Constant [km/s / Mpc]\n",
    "h     = H0 / 100 \n",
    "rho_c = 3*(H0**2)/(8*np.pi*G*1e-3) # Critical density [M_{sun}/Mpc**3]\n",
    "rho_c = rho_c * (1e-3 ** 3) #2.7754 * 1e2 * (H0/100)**2 # Critical density [M_{sun}/Kpc**3]\n",
    "Nfields = 9\n",
    "M_dm    = 7.5e6 # M_sun\n",
    "headers = {\"api-key\": '81b7c70637fa8b110e6b9f236ea07c37'}"
   ]
  },
  {
   "cell_type": "markdown",
   "metadata": {},
   "source": [
    "# Some custom functions"
   ]
  },
  {
   "cell_type": "code",
   "execution_count": 5,
   "metadata": {},
   "outputs": [],
   "source": [
    "def get(path, params=None, folderName=''):\n",
    "    '''\n",
    "    Illustris function\n",
    "    '''\n",
    "    # make HTTP GET request to path\n",
    "    r = requests.get(path, params=params, headers=headers)\n",
    "\n",
    "    # raise exception if response code is not HTTP SUCCESS (200)\n",
    "    r.raise_for_status()\n",
    "\n",
    "    if r.headers['content-type'] == 'application/json':\n",
    "        return r.json() # parse json responses automatically\n",
    "\n",
    "    if 'content-disposition' in r.headers:\n",
    "        filename = r.headers['content-disposition'].split(\"filename=\")[1]\n",
    "        if filename.endswith('.hdf5'):\n",
    "            file_access_property_list = h5py.h5p.create(h5py.h5p.FILE_ACCESS)\n",
    "            file_access_property_list.set_fapl_core(backing_store=False)\n",
    "            file_access_property_list.set_file_image(r.content)\n",
    "            \n",
    "            file_id_args = {\n",
    "                'fapl': file_access_property_list,\n",
    "                'flags': h5py.h5f.ACC_RDONLY,\n",
    "                'name': next(tempfile._get_candidate_names()).encode()\n",
    "            }\n",
    "            \n",
    "            h5_file_args = {'backing_store': False, 'driver': 'core', 'mode': 'r'}\n",
    "            with contextlib.closing(h5py.h5f.open(**file_id_args)) as file_id:\n",
    "                with h5py.File(file_id, **h5_file_args) as h5_file:\n",
    "                    #return np.array(h5_file['grid'])\n",
    "                    if 'grid' in h5_file.keys(): return np.array(h5_file['grid'])\n",
    "                    else:\n",
    "                        results = []\n",
    "                        for k in h5_file.keys():\n",
    "                            for sk in h5_file[k].keys():\n",
    "                                results.append(np.array(h5_file[k][sk]))\n",
    "                        return results\n",
    "        else:\n",
    "            with open(folderName + filename, 'wb') as f:\n",
    "                f.write(r.content)\n",
    "            return filename # return the filename string\n",
    "    return r\n"
   ]
  },
  {
   "cell_type": "code",
   "execution_count": 6,
   "metadata": {},
   "outputs": [],
   "source": [
    "def get1(path, name, params=None):\n",
    "    '''\n",
    "    Illustris function\n",
    "    '''\n",
    "    # make HTTP GET request to path\n",
    "    headers = {\"api-key\":\"81b7c70637fa8b110e6b9f236ea07c37\"}\n",
    "    r = requests.get(path, params=params, headers=headers)\n",
    "    # raise exception if response code is not HTTP SUCCESS (200)\n",
    "    r.raise_for_status()\n",
    "    if r.headers['content-type'] == 'application/json':\n",
    "        return r.json() # parse json responses automatically\n",
    "    if 'content-disposition' in r.headers:\n",
    "        filename = r.headers['content-disposition'].split(\"filename=\")[1]\n",
    "        with open(name + '.hdf5', 'wb') as f:\n",
    "            f.write(r.content)\n",
    "        return name + '.hdf5' # return the filename string\n",
    "    return NULL"
   ]
  },
  {
   "cell_type": "code",
   "execution_count": 7,
   "metadata": {},
   "outputs": [],
   "source": [
    "def compute_mass_profile(gid, center):\n",
    "    '''\n",
    "    MIHAEL FUNCTION: compute the dark matter mass enclosed in 20 radii\n",
    "    from 1 to 100 kPc\n",
    "    \n",
    "    Parameters\n",
    "    ----------\n",
    "    gid : int \n",
    "        GroupID\n",
    "    center : list\n",
    "        (x,y,z) Position of the group\n",
    "    \n",
    "    Returns\n",
    "    -------\n",
    "    \n",
    "    NP Array\n",
    "        Array with the dark matter mass enclosed in 20 radii from 1 to 100 kPc\n",
    "    '''\n",
    "    dm = il.snapshot.loadHalo('/home/tnguser/sims.TNG/TNG100-1/output/', 99, gid, 'dm', fields=['Coordinates'])\n",
    "    dm = np.where(dm > 32500, dm - 75000, dm)\n",
    "    dm = np.where(dm < -32500, dm + 75000, dm)\n",
    "    center = np.where(center > 32500, center - 75000, center)\n",
    "    center = np.where(center < -32500, center + 75000, center)\n",
    "    dm = dm - center\n",
    "    dist = []\n",
    "    for d in dm:\n",
    "        D = np.sqrt(sum([c**2 for c in d]))\n",
    "        if D < 100: dist.append(D)\n",
    "    R_bins = np.geomspace(1, 100, 20)\n",
    "    M = np.array([len(np.where(np.array(dist) < R)[0]) * M_dm for R in R_bins])\n",
    "    return M"
   ]
  },
  {
   "cell_type": "code",
   "execution_count": 8,
   "metadata": {},
   "outputs": [],
   "source": [
    "def compute_total_mass_profile(Rmax, Rmin, Nm, sub_meta, url):\n",
    "    '''\n",
    "    Computes the dark matter, stars and gas mass enclosed in Nm radii\n",
    "    from Rmin to Rmax kPc\n",
    "    \n",
    "    Parameters\n",
    "    ----------\n",
    "    Rmin, Rmax : float \n",
    "        Min and Max radii\n",
    "    Nm : int\n",
    "        Number of radial bins\n",
    "    sub_meta : str\n",
    "        Illustris information of the subhalo\n",
    "    url : str\n",
    "        Url to the Illustris server\n",
    "    \n",
    "    Returns\n",
    "    -------\n",
    "    \n",
    "    List\n",
    "        List of 4 Arrays corresponding to the radial bins and the \n",
    "        dark matter, stars and gas mass enclosed in Nm radii from \n",
    "        Rmin to Rmax kPc\n",
    "    '''\n",
    "    center = np.array([sub_meta['pos_x'], sub_meta['pos_y'], sub_meta['pos_z']])\n",
    "    particles  = get(url + 'cutout.hdf5', {'dm':'Coordinates',\n",
    "                                                'gas':'Coordinates,Masses',\n",
    "                                                'stars':'Coordinates,Masses'\n",
    "                                               })\n",
    "    \n",
    "    dm = particles[2] - center\n",
    "    dm = np.where(dm > 32500, dm - 75000, dm)\n",
    "    dm = np.where(dm < -32500, dm + 75000, dm)\n",
    "    \n",
    "    dist_dm = []\n",
    "    for d in dm:\n",
    "        D = np.sqrt(sum([c**2 for c in d]))\n",
    "        dist_dm.append(D)\n",
    "    \n",
    "    m_gas = particles[1] * 1e10/h\n",
    "    gas = particles[0] - center\n",
    "    gas = np.where(gas > 32500, gas - 75000, gas)\n",
    "    gas = np.where(gas < -32500, gas + 75000, gas)\n",
    "    \n",
    "    dist_gas = []\n",
    "    for d in gas:\n",
    "        D = np.sqrt(sum([c**2 for c in d]))\n",
    "        dist_gas.append(D)\n",
    "\n",
    "    m_stars = particles[4] * 1e10/h\n",
    "    stars = particles[3] - center\n",
    "    stars = np.where(stars > 32500, stars - 75000, stars)\n",
    "    stars = np.where(stars < -32500, stars + 75000, stars)\n",
    "    \n",
    "    dist_stars = []\n",
    "    for d in stars:\n",
    "        D = np.sqrt(sum([c**2 for c in d]))\n",
    "        dist_stars.append(D)\n",
    "            \n",
    "    R_bins = np.geomspace(Rmin, Rmax, Nm)\n",
    "    \n",
    "    p_dm    = np.array([len(np.where(np.array(dist_dm) < R)[0]) * M_dm for R in R_bins])\n",
    "    p_stars = np.array([sum(m_stars[np.where(np.array(dist_stars) < R)[0]]) for R in R_bins])\n",
    "    p_gas   = np.array([sum(m_gas[np.where(np.array(dist_gas) < R)[0]]) for R in R_bins])\n",
    "    return R_bins, p_dm, p_stars, p_gas"
   ]
  },
  {
   "cell_type": "code",
   "execution_count": 9,
   "metadata": {},
   "outputs": [],
   "source": [
    "def compute_rot_mat_inertia(coordinates, masses, Rmin=0, Rmax=20):\n",
    "    '''\n",
    "    MIHAEL FUNCTION: computes the intertia momenta of a subhalo with ID sid\n",
    "    \n",
    "    Parameters\n",
    "    ----------\n",
    "    \n",
    "    \n",
    "    Returns\n",
    "    -------\n",
    "    \n",
    "    Matrix\n",
    "        Rotation matrix for align the intertia momenta with the z-axis\n",
    "    '''\n",
    "    \n",
    "    dist = np.linalg.norm(coordinates, axis=1)\n",
    "    indices1 = np.argwhere(dist < Rmin)\n",
    "    indices2 = np.argwhere(dist > Rmax)\n",
    "    indices = np.concatenate((indices1, indices2))\n",
    "    distances = np.delete(dist, indices)\n",
    "    coordinates = np.delete(coordinates, indices, axis=0)\n",
    "    masses = np.delete(masses, indices)\n",
    "    \n",
    "    I = np.zeros((3,3))\n",
    "    for i in range(3):\n",
    "        for j in range(3):\n",
    "            if i == j: I[i][j] = np.sum(masses * (distances**2 - coordinates[:,i] * coordinates[:,j]))\n",
    "            else: I[i][j] = np.sum(masses * (- coordinates[:,i] * coordinates[:,j]))\n",
    "    \n",
    "    I_eign = np.linalg.eigh(I)\n",
    "    L = I_eign[1][2]\n",
    "    #print(I)\n",
    "    #print(L / np.linalg.norm(L))\n",
    "    \n",
    "    rot, _ = R.align_vectors([L, np.cross(L, [1,0,0])], [[0,0,1],[0,1,0]])\n",
    "    return rot.as_matrix(), L\n",
    "\n"
   ]
  },
  {
   "cell_type": "code",
   "execution_count": 10,
   "metadata": {},
   "outputs": [],
   "source": [
    "def compute_rot_mat_angMom(coordinates, velocities, masses, Rmin = 0, Rmax = 20):\n",
    "    \n",
    "    dist = np.linalg.norm(coordinates, axis=1)\n",
    "    indices1 = np.argwhere(dist < Rmin)\n",
    "    indices2 = np.argwhere(dist > Rmax)\n",
    "    indices = np.concatenate((indices1, indices2))\n",
    "    distances = np.delete(dist, indices)\n",
    "    \n",
    "    coordinates = np.delete(coordinates, indices, axis = 0)\n",
    "    masses = np.delete(masses, indices)\n",
    "    velocities = np.delete(velocities, indices, axis = 0)\n",
    "    \n",
    "    L = (np.cross(coordinates, velocities).T * np.array(masses)).T\n",
    "    Lmean = np.mean(L, axis=0)\n",
    "    #print(Lmean / np.linalg.norm(Lmean))\n",
    "    \n",
    "    rot, _ = R.align_vectors([Lmean, np.cross(Lmean, [1,0,0])], [[0,0,1],[1,0,0]])\n",
    "    return rot.as_matrix(), Lmean"
   ]
  },
  {
   "cell_type": "code",
   "execution_count": 11,
   "metadata": {},
   "outputs": [],
   "source": [
    "from matplotlib.patches import FancyArrowPatch\n",
    "from mpl_toolkits.mplot3d.axes3d import Axes3D\n",
    "from mpl_toolkits.mplot3d.proj3d import proj_transform\n",
    "\n",
    "class Arrow3D(FancyArrowPatch):\n",
    "\n",
    "    def __init__(self, x, y, z, dx, dy, dz, *args, **kwargs):\n",
    "        super().__init__((0, 0), (0, 0), *args, **kwargs)\n",
    "        self._xyz = (x, y, z)\n",
    "        self._dxdydz = (dx, dy, dz)\n",
    "\n",
    "    def draw(self, renderer):\n",
    "        x1, y1, z1 = self._xyz\n",
    "        dx, dy, dz = self._dxdydz\n",
    "        x2, y2, z2 = (x1 + dx, y1 + dy, z1 + dz)\n",
    "\n",
    "        xs, ys, zs = proj_transform((x1, x2), (y1, y2), (z1, z2), self.axes.M)\n",
    "        self.set_positions((xs[0], ys[0]), (xs[1], ys[1]))\n",
    "        super().draw(renderer)\n",
    "        \n",
    "def _arrow3D(ax, x, y, z, dx, dy, dz, *args, **kwargs):\n",
    "    '''Add an 3d arrow to an `Axes3D` instance.'''\n",
    "\n",
    "    arrow = Arrow3D(x, y, z, dx, dy, dz, *args, **kwargs)\n",
    "    ax.add_artist(arrow)\n",
    "\n",
    "\n",
    "setattr(Axes3D, 'arrow3D', _arrow3D)"
   ]
  },
  {
   "cell_type": "markdown",
   "metadata": {},
   "source": [
    "# Looking for the subhalos"
   ]
  },
  {
   "cell_type": "code",
   "execution_count": 12,
   "metadata": {},
   "outputs": [],
   "source": [
    "N     = 40000 # Number of samples.\n",
    "Nm    = 20 #  'Number of radii\n",
    "Rmin  = 1 # Maximal radius.\n",
    "Rmax  = 100 # 'Maximal radius.\n",
    "o     = 0 # Subhalo offset.\n",
    "p     = 254 # Number of pixles.\n",
    "D     = 200 # Image physical extent (in kpc).\n",
    "\n",
    "Mmin  = 1e11 # Minimum total mass.\n",
    "Mmax  = 1e13 # Maximum total mass.\n",
    "Mdmin = 1e9 # Minimum dark matter mass in half radius.\n",
    "Mdmax = 1e13 # Maximum dark matter mass in half radius.\n",
    "Mgmin = 1e8 # Minimum gas mass.\n",
    "Mgmax = 1e13 # Maximum gas mass.\n",
    "Msmin = 1e10 # Minimum stellar mass.\n",
    "Msmax = 1e12 # Maximum stellar mass.\n",
    "\n",
    "sim   = 'TNG100-1' # Name of simulation run.\n",
    "z     = 99  # Snapshot number.\n",
    "myBasePath = '../sims.TNG/' + sim +'/output/'\n",
    "\n",
    "mass_min      = (Mmin / h) * 1e-10 # Minimum total mass\n",
    "mass_max      = (Mmax / h) * 1e-10 # Maximum total mass\n",
    "dm_mass_min   = (Mdmin / h) * 1e-10 # Minimum total dm mass\n",
    "dm_mass_max   = (Mdmax / h) * 1e-10 # Maximum total dm mass\n",
    "gas_mass_min  = (Mgmin / h) * 1e-10 # Minimum total gas mass\n",
    "gas_mass_max  = (Mgmax / h) * 1e-10 # Maximum total gas mass\n",
    "star_mass_min = (Msmin / h) * 1e-10 # Minimum total star mass\n",
    "star_mass_max = (Msmax / h) * 1e-10 # Maximum total star mass\n",
    "\n",
    "\n",
    "subhalos_url = 'http://www.tng-project.org/api/' + sim + '/snapshots/' + str(z) + '/subhalos'\n",
    "url          = subhalos_url\n",
    "subhalos     = get(subhalos_url, {'limit': N, 'offset': o,\n",
    "                                #'mass__gt': mass_min, 'mass__lt': mass_max,                                     \n",
    "                                #'massinhalfrad_dm__gt':dm_mass_min,'massinhalfrad_dm__lt':dm_mass_max, \n",
    "                                #'mass_gas__gt': gas_mass_min, 'mass_gas__lt': gas_mass_max,\n",
    "                                'mass_stars__gt': star_mass_min, #'mass_stars__lt': star_mass_max,\n",
    "                                #'filterFlag': True, 'parent':0, \n",
    "                                #'sfr__gt':0.1,\n",
    "                                'subhaloflag__lt':1})\n",
    "\n",
    "nsubhalos = len(subhalos['results'])"
   ]
  },
  {
   "cell_type": "code",
   "execution_count": 13,
   "metadata": {},
   "outputs": [
    {
     "data": {
      "text/plain": [
       "3893"
      ]
     },
     "execution_count": 13,
     "metadata": {},
     "output_type": "execute_result"
    }
   ],
   "source": [
    "nsubhalos"
   ]
  },
  {
   "cell_type": "markdown",
   "metadata": {},
   "source": [
    "# Analyzing each individual subhalo (ie galaxy)"
   ]
  },
  {
   "cell_type": "code",
   "execution_count": 14,
   "metadata": {},
   "outputs": [],
   "source": [
    "data = h5py.File('gals_properties.h5', 'a')"
   ]
  },
  {
   "cell_type": "code",
   "execution_count": 15,
   "metadata": {},
   "outputs": [
    {
     "data": {
      "text/plain": [
       "['MainProps',\n",
       " 'SubID_1',\n",
       " 'SubID_10',\n",
       " 'SubID_11',\n",
       " 'SubID_12',\n",
       " 'SubID_13',\n",
       " 'SubID_14',\n",
       " 'SubID_15',\n",
       " 'SubID_16',\n",
       " 'SubID_17',\n",
       " 'SubID_18',\n",
       " 'SubID_19',\n",
       " 'SubID_2',\n",
       " 'SubID_20',\n",
       " 'SubID_21',\n",
       " 'SubID_22',\n",
       " 'SubID_23',\n",
       " 'SubID_24',\n",
       " 'SubID_25',\n",
       " 'SubID_26',\n",
       " 'SubID_27',\n",
       " 'SubID_28',\n",
       " 'SubID_29',\n",
       " 'SubID_3',\n",
       " 'SubID_4',\n",
       " 'SubID_5',\n",
       " 'SubID_6',\n",
       " 'SubID_7',\n",
       " 'SubID_8',\n",
       " 'SubID_9']"
      ]
     },
     "execution_count": 15,
     "metadata": {},
     "output_type": "execute_result"
    }
   ],
   "source": [
    "list(data.keys())"
   ]
  },
  {
   "cell_type": "code",
   "execution_count": 16,
   "metadata": {},
   "outputs": [],
   "source": [
    "try:\n",
    "    flag_MainProps = True\n",
    "    old_MainProps = data['MainProps'][()]\n",
    "except:\n",
    "    flag_MainProps = False"
   ]
  },
  {
   "cell_type": "code",
   "execution_count": null,
   "metadata": {},
   "outputs": [
    {
     "name": "stderr",
     "output_type": "stream",
     "text": [
      "  0%|          | 0/3892 [00:00<?, ?it/s]"
     ]
    },
    {
     "name": "stdout",
     "output_type": "stream",
     "text": [
      "Subhalo already exists\n",
      "Subhalo already exists\n",
      "Subhalo already exists\n",
      "Subhalo already exists\n",
      "Subhalo already exists\n",
      "Subhalo already exists\n",
      "Subhalo already exists\n",
      "Subhalo already exists\n",
      "Subhalo already exists\n",
      "Subhalo already exists\n",
      "Subhalo already exists\n",
      "Subhalo already exists\n",
      "Subhalo already exists\n",
      "Subhalo already exists\n",
      "Subhalo already exists\n",
      "Subhalo already exists\n",
      "Subhalo already exists\n",
      "Subhalo already exists\n",
      "Subhalo already exists\n",
      "Subhalo already exists\n",
      "Subhalo already exists\n",
      "Subhalo already exists\n",
      "Subhalo already exists\n",
      "Subhalo already exists\n",
      "Subhalo already exists\n",
      "Subhalo already exists\n",
      "Subhalo already exists\n",
      "Subhalo already exists\n",
      "Subhalo already exists\n",
      "Starting the estimation of properties with subhalo particles for galaxy 30\n",
      "Galaxy 30 have no gas\n",
      "Starting the estimation of properties with subhalo particles for galaxy 30\n",
      "Starting the estimation of properties with halo particles for galaxy 30\n"
     ]
    },
    {
     "name": "stderr",
     "output_type": "stream",
     "text": [
      "  1%|          | 30/3892 [11:09<23:55:55, 22.31s/it]"
     ]
    },
    {
     "name": "stdout",
     "output_type": "stream",
     "text": [
      "Starting the estimation of properties with subhalo particles for galaxy 31\n",
      "Galaxy 31 have no gas\n",
      "Starting the estimation of properties with subhalo particles for galaxy 31\n",
      "Starting the estimation of properties with halo particles for galaxy 31\n"
     ]
    },
    {
     "name": "stderr",
     "output_type": "stream",
     "text": [
      "  1%|          | 31/3892 [22:03<54:44:15, 51.04s/it]"
     ]
    },
    {
     "name": "stdout",
     "output_type": "stream",
     "text": [
      "Starting the estimation of properties with subhalo particles for galaxy 32\n",
      "Starting the estimation of properties with subhalo particles for galaxy 32\n",
      "Starting the estimation of properties with halo particles for galaxy 32\n"
     ]
    },
    {
     "name": "stderr",
     "output_type": "stream",
     "text": [
      "  1%|          | 32/3892 [32:47<93:28:37, 87.18s/it]"
     ]
    },
    {
     "name": "stdout",
     "output_type": "stream",
     "text": [
      "Starting the estimation of properties with subhalo particles for galaxy 33\n",
      "Galaxy 33 have no gas\n",
      "Starting the estimation of properties with subhalo particles for galaxy 33\n",
      "Starting the estimation of properties with halo particles for galaxy 33\n"
     ]
    },
    {
     "name": "stderr",
     "output_type": "stream",
     "text": [
      "  1%|          | 33/3892 [44:12<144:49:24, 135.10s/it]"
     ]
    },
    {
     "name": "stdout",
     "output_type": "stream",
     "text": [
      "Starting the estimation of properties with subhalo particles for galaxy 34\n",
      "Galaxy 34 have no gas\n",
      "Starting the estimation of properties with subhalo particles for galaxy 34\n",
      "Starting the estimation of properties with halo particles for galaxy 34\n"
     ]
    },
    {
     "name": "stderr",
     "output_type": "stream",
     "text": [
      "  1%|          | 34/3892 [55:06<201:52:05, 188.37s/it]"
     ]
    },
    {
     "name": "stdout",
     "output_type": "stream",
     "text": [
      "Starting the estimation of properties with subhalo particles for galaxy 35\n",
      "Galaxy 35 have no gas\n",
      "Starting the estimation of properties with subhalo particles for galaxy 35\n",
      "Starting the estimation of properties with halo particles for galaxy 35\n"
     ]
    },
    {
     "name": "stderr",
     "output_type": "stream",
     "text": [
      "  1%|          | 35/3892 [1:06:16<267:51:03, 250.00s/it]"
     ]
    },
    {
     "name": "stdout",
     "output_type": "stream",
     "text": [
      "Starting the estimation of properties with subhalo particles for galaxy 36\n",
      "Starting the estimation of properties with subhalo particles for galaxy 36\n",
      "Starting the estimation of properties with halo particles for galaxy 36\n"
     ]
    },
    {
     "name": "stderr",
     "output_type": "stream",
     "text": [
      "  1%|          | 36/3892 [1:17:12<335:01:59, 312.79s/it]"
     ]
    },
    {
     "name": "stdout",
     "output_type": "stream",
     "text": [
      "Starting the estimation of properties with subhalo particles for galaxy 38\n",
      "Starting the estimation of properties with subhalo particles for galaxy 38\n",
      "Starting the estimation of properties with halo particles for galaxy 38\n"
     ]
    },
    {
     "name": "stderr",
     "output_type": "stream",
     "text": [
      "  1%|          | 37/3892 [1:28:11<402:00:08, 375.41s/it]"
     ]
    },
    {
     "name": "stdout",
     "output_type": "stream",
     "text": [
      "Starting the estimation of properties with subhalo particles for galaxy 39\n",
      "Starting the estimation of properties with subhalo particles for galaxy 39\n",
      "Starting the estimation of properties with halo particles for galaxy 39\n"
     ]
    },
    {
     "name": "stderr",
     "output_type": "stream",
     "text": [
      "  1%|          | 38/3892 [1:39:05<463:05:56, 432.58s/it]"
     ]
    },
    {
     "name": "stdout",
     "output_type": "stream",
     "text": [
      "Starting the estimation of properties with subhalo particles for galaxy 40\n",
      "Galaxy 40 have no gas\n",
      "Starting the estimation of properties with subhalo particles for galaxy 40\n",
      "Starting the estimation of properties with halo particles for galaxy 40\n"
     ]
    },
    {
     "name": "stderr",
     "output_type": "stream",
     "text": [
      "  1%|          | 39/3892 [1:49:44<513:08:26, 479.45s/it]"
     ]
    },
    {
     "name": "stdout",
     "output_type": "stream",
     "text": [
      "Starting the estimation of properties with subhalo particles for galaxy 41\n",
      "Starting the estimation of properties with subhalo particles for galaxy 41\n",
      "Starting the estimation of properties with halo particles for galaxy 41\n"
     ]
    },
    {
     "name": "stderr",
     "output_type": "stream",
     "text": [
      "  1%|          | 40/3892 [2:00:58<563:47:35, 526.91s/it]"
     ]
    },
    {
     "name": "stdout",
     "output_type": "stream",
     "text": [
      "Starting the estimation of properties with subhalo particles for galaxy 43\n",
      "Starting the estimation of properties with subhalo particles for galaxy 43\n",
      "Starting the estimation of properties with halo particles for galaxy 43\n"
     ]
    },
    {
     "name": "stderr",
     "output_type": "stream",
     "text": [
      "  1%|          | 41/3892 [2:11:36<594:37:17, 555.87s/it]"
     ]
    },
    {
     "name": "stdout",
     "output_type": "stream",
     "text": [
      "Starting the estimation of properties with subhalo particles for galaxy 44\n",
      "Galaxy 44 have no gas\n",
      "Starting the estimation of properties with subhalo particles for galaxy 44\n",
      "Starting the estimation of properties with halo particles for galaxy 44\n"
     ]
    },
    {
     "name": "stderr",
     "output_type": "stream",
     "text": [
      "  1%|          | 42/3892 [2:22:21<620:03:25, 579.79s/it]"
     ]
    },
    {
     "name": "stdout",
     "output_type": "stream",
     "text": [
      "Starting the estimation of properties with subhalo particles for galaxy 45\n",
      "Galaxy 45 have no gas\n",
      "Starting the estimation of properties with subhalo particles for galaxy 45\n",
      "Starting the estimation of properties with halo particles for galaxy 45\n"
     ]
    },
    {
     "name": "stderr",
     "output_type": "stream",
     "text": [
      "  1%|          | 43/3892 [2:33:14<641:45:27, 600.24s/it]"
     ]
    },
    {
     "name": "stdout",
     "output_type": "stream",
     "text": [
      "Starting the estimation of properties with subhalo particles for galaxy 46\n",
      "Galaxy 46 have no gas\n",
      "Starting the estimation of properties with subhalo particles for galaxy 46\n",
      "Starting the estimation of properties with halo particles for galaxy 46\n"
     ]
    },
    {
     "name": "stderr",
     "output_type": "stream",
     "text": [
      "  1%|          | 44/3892 [2:43:54<653:48:03, 611.66s/it]"
     ]
    },
    {
     "name": "stdout",
     "output_type": "stream",
     "text": [
      "Starting the estimation of properties with subhalo particles for galaxy 47\n",
      "Galaxy 47 have no gas\n",
      "Starting the estimation of properties with subhalo particles for galaxy 47\n",
      "Starting the estimation of properties with halo particles for galaxy 47\n"
     ]
    },
    {
     "name": "stderr",
     "output_type": "stream",
     "text": [
      "  1%|          | 45/3892 [2:54:35<662:26:47, 619.91s/it]"
     ]
    },
    {
     "name": "stdout",
     "output_type": "stream",
     "text": [
      "Starting the estimation of properties with subhalo particles for galaxy 49\n",
      "Galaxy 49 have no gas\n",
      "Starting the estimation of properties with subhalo particles for galaxy 49\n",
      "Starting the estimation of properties with halo particles for galaxy 49\n"
     ]
    },
    {
     "name": "stderr",
     "output_type": "stream",
     "text": [
      "  1%|          | 46/3892 [3:05:29<672:59:36, 629.95s/it]"
     ]
    },
    {
     "name": "stdout",
     "output_type": "stream",
     "text": [
      "Starting the estimation of properties with subhalo particles for galaxy 50\n",
      "Starting the estimation of properties with subhalo particles for galaxy 50\n",
      "Starting the estimation of properties with halo particles for galaxy 50\n"
     ]
    },
    {
     "name": "stderr",
     "output_type": "stream",
     "text": [
      "  1%|          | 47/3892 [3:16:22<680:07:59, 636.80s/it]"
     ]
    },
    {
     "name": "stdout",
     "output_type": "stream",
     "text": [
      "Starting the estimation of properties with subhalo particles for galaxy 52\n",
      "Starting the estimation of properties with subhalo particles for galaxy 52\n",
      "Starting the estimation of properties with halo particles for galaxy 52\n"
     ]
    },
    {
     "name": "stderr",
     "output_type": "stream",
     "text": [
      "  1%|          | 48/3892 [3:27:36<691:40:23, 647.77s/it]"
     ]
    },
    {
     "name": "stdout",
     "output_type": "stream",
     "text": [
      "Starting the estimation of properties with subhalo particles for galaxy 53\n",
      "Galaxy 53 have no gas\n",
      "Starting the estimation of properties with subhalo particles for galaxy 53\n",
      "Starting the estimation of properties with halo particles for galaxy 53\n"
     ]
    },
    {
     "name": "stderr",
     "output_type": "stream",
     "text": [
      "  1%|▏         | 49/3892 [3:39:08<705:23:14, 660.78s/it]"
     ]
    },
    {
     "name": "stdout",
     "output_type": "stream",
     "text": [
      "Starting the estimation of properties with subhalo particles for galaxy 55\n",
      "Galaxy 55 have no gas\n",
      "Starting the estimation of properties with subhalo particles for galaxy 55\n",
      "Starting the estimation of properties with halo particles for galaxy 55\n"
     ]
    },
    {
     "name": "stderr",
     "output_type": "stream",
     "text": [
      "  1%|▏         | 50/3892 [3:50:08<705:05:21, 660.68s/it]"
     ]
    },
    {
     "name": "stdout",
     "output_type": "stream",
     "text": [
      "Starting the estimation of properties with subhalo particles for galaxy 57\n",
      "Galaxy 57 have no gas\n",
      "Starting the estimation of properties with subhalo particles for galaxy 57\n",
      "Starting the estimation of properties with halo particles for galaxy 57\n"
     ]
    },
    {
     "name": "stderr",
     "output_type": "stream",
     "text": [
      "  1%|▏         | 51/3892 [4:01:07<704:32:08, 660.33s/it]"
     ]
    },
    {
     "name": "stdout",
     "output_type": "stream",
     "text": [
      "Starting the estimation of properties with subhalo particles for galaxy 58\n",
      "Galaxy 58 have no gas\n",
      "Starting the estimation of properties with subhalo particles for galaxy 58\n",
      "Starting the estimation of properties with halo particles for galaxy 58\n"
     ]
    },
    {
     "name": "stderr",
     "output_type": "stream",
     "text": [
      "  1%|▏         | 52/3892 [4:12:13<705:53:04, 661.77s/it]"
     ]
    },
    {
     "name": "stdout",
     "output_type": "stream",
     "text": [
      "Starting the estimation of properties with subhalo particles for galaxy 59\n",
      "Galaxy 59 have no gas\n",
      "Starting the estimation of properties with subhalo particles for galaxy 59\n",
      "Starting the estimation of properties with halo particles for galaxy 59\n"
     ]
    },
    {
     "name": "stderr",
     "output_type": "stream",
     "text": [
      "  1%|▏         | 53/3892 [4:22:52<698:28:25, 654.99s/it]"
     ]
    },
    {
     "name": "stdout",
     "output_type": "stream",
     "text": [
      "Starting the estimation of properties with subhalo particles for galaxy 60\n",
      "Galaxy 60 have no gas\n",
      "Starting the estimation of properties with subhalo particles for galaxy 60\n",
      "Starting the estimation of properties with halo particles for galaxy 60\n"
     ]
    },
    {
     "name": "stderr",
     "output_type": "stream",
     "text": [
      "  1%|▏         | 54/3892 [4:34:41<715:30:28, 671.14s/it]"
     ]
    },
    {
     "name": "stdout",
     "output_type": "stream",
     "text": [
      "Starting the estimation of properties with subhalo particles for galaxy 63\n",
      "Galaxy 63 have no gas\n",
      "Starting the estimation of properties with subhalo particles for galaxy 63\n",
      "Starting the estimation of properties with halo particles for galaxy 63\n"
     ]
    },
    {
     "name": "stderr",
     "output_type": "stream",
     "text": [
      "  1%|▏         | 55/3892 [4:45:39<711:17:18, 667.35s/it]"
     ]
    },
    {
     "name": "stdout",
     "output_type": "stream",
     "text": [
      "Starting the estimation of properties with subhalo particles for galaxy 66\n",
      "Galaxy 66 have no gas\n",
      "Starting the estimation of properties with subhalo particles for galaxy 66\n",
      "Starting the estimation of properties with halo particles for galaxy 66\n"
     ]
    },
    {
     "name": "stderr",
     "output_type": "stream",
     "text": [
      "  1%|▏         | 56/3892 [4:56:24<703:56:08, 660.63s/it]"
     ]
    },
    {
     "name": "stdout",
     "output_type": "stream",
     "text": [
      "Starting the estimation of properties with subhalo particles for galaxy 67\n",
      "Galaxy 67 have no gas\n",
      "Starting the estimation of properties with subhalo particles for galaxy 67\n",
      "Starting the estimation of properties with halo particles for galaxy 67\n"
     ]
    },
    {
     "name": "stderr",
     "output_type": "stream",
     "text": [
      "  1%|▏         | 57/3892 [5:08:11<718:31:15, 674.49s/it]"
     ]
    },
    {
     "name": "stdout",
     "output_type": "stream",
     "text": [
      "Starting the estimation of properties with subhalo particles for galaxy 68\n",
      "Galaxy 68 have no gas\n",
      "Starting the estimation of properties with subhalo particles for galaxy 68\n",
      "Starting the estimation of properties with halo particles for galaxy 68\n"
     ]
    },
    {
     "name": "stderr",
     "output_type": "stream",
     "text": [
      "  1%|▏         | 58/3892 [5:19:03<711:17:09, 667.87s/it]"
     ]
    },
    {
     "name": "stdout",
     "output_type": "stream",
     "text": [
      "Starting the estimation of properties with subhalo particles for galaxy 72\n",
      "Starting the estimation of properties with subhalo particles for galaxy 72\n",
      "Starting the estimation of properties with halo particles for galaxy 72\n"
     ]
    },
    {
     "name": "stderr",
     "output_type": "stream",
     "text": [
      "  2%|▏         | 59/3892 [5:29:58<706:42:48, 663.75s/it]"
     ]
    },
    {
     "name": "stdout",
     "output_type": "stream",
     "text": [
      "Starting the estimation of properties with subhalo particles for galaxy 74\n",
      "Galaxy 74 have no gas\n",
      "Starting the estimation of properties with subhalo particles for galaxy 74\n",
      "Starting the estimation of properties with halo particles for galaxy 74\n"
     ]
    },
    {
     "name": "stderr",
     "output_type": "stream",
     "text": [
      "  2%|▏         | 60/3892 [5:41:03<707:10:07, 664.35s/it]"
     ]
    },
    {
     "name": "stdout",
     "output_type": "stream",
     "text": [
      "Starting the estimation of properties with subhalo particles for galaxy 80\n",
      "Galaxy 80 have no gas\n",
      "Starting the estimation of properties with subhalo particles for galaxy 80\n",
      "Starting the estimation of properties with halo particles for galaxy 80\n"
     ]
    },
    {
     "name": "stderr",
     "output_type": "stream",
     "text": [
      "  2%|▏         | 61/3892 [5:52:29<713:54:40, 670.86s/it]"
     ]
    },
    {
     "name": "stdout",
     "output_type": "stream",
     "text": [
      "Starting the estimation of properties with subhalo particles for galaxy 81\n",
      "Galaxy 81 have no gas\n",
      "Starting the estimation of properties with subhalo particles for galaxy 81\n",
      "Starting the estimation of properties with halo particles for galaxy 81\n"
     ]
    },
    {
     "name": "stderr",
     "output_type": "stream",
     "text": [
      "  2%|▏         | 62/3892 [6:03:23<708:20:42, 665.81s/it]"
     ]
    },
    {
     "name": "stdout",
     "output_type": "stream",
     "text": [
      "Starting the estimation of properties with subhalo particles for galaxy 87\n",
      "Galaxy 87 have no gas\n",
      "Starting the estimation of properties with subhalo particles for galaxy 87\n",
      "Starting the estimation of properties with halo particles for galaxy 87\n"
     ]
    },
    {
     "name": "stderr",
     "output_type": "stream",
     "text": [
      "  2%|▏         | 63/3892 [6:14:07<701:11:23, 659.25s/it]"
     ]
    },
    {
     "name": "stdout",
     "output_type": "stream",
     "text": [
      "Starting the estimation of properties with subhalo particles for galaxy 89\n",
      "Galaxy 89 have no gas\n",
      "Starting the estimation of properties with subhalo particles for galaxy 89\n",
      "Starting the estimation of properties with halo particles for galaxy 89\n"
     ]
    },
    {
     "name": "stderr",
     "output_type": "stream",
     "text": [
      "  2%|▏         | 64/3892 [6:25:10<702:12:30, 660.38s/it]"
     ]
    },
    {
     "name": "stdout",
     "output_type": "stream",
     "text": [
      "Starting the estimation of properties with subhalo particles for galaxy 92\n",
      "Galaxy 92 have no gas\n",
      "Starting the estimation of properties with subhalo particles for galaxy 92\n",
      "Starting the estimation of properties with halo particles for galaxy 92\n"
     ]
    },
    {
     "name": "stderr",
     "output_type": "stream",
     "text": [
      "  2%|▏         | 65/3892 [6:36:16<703:38:34, 661.91s/it]"
     ]
    },
    {
     "name": "stdout",
     "output_type": "stream",
     "text": [
      "Starting the estimation of properties with subhalo particles for galaxy 93\n",
      "Galaxy 93 have no gas\n",
      "Starting the estimation of properties with subhalo particles for galaxy 93\n",
      "Starting the estimation of properties with halo particles for galaxy 93\n"
     ]
    },
    {
     "name": "stderr",
     "output_type": "stream",
     "text": [
      "  2%|▏         | 66/3892 [6:47:15<702:42:11, 661.19s/it]"
     ]
    },
    {
     "name": "stdout",
     "output_type": "stream",
     "text": [
      "Starting the estimation of properties with subhalo particles for galaxy 96\n",
      "Galaxy 96 have no gas\n",
      "Starting the estimation of properties with subhalo particles for galaxy 96\n",
      "Starting the estimation of properties with halo particles for galaxy 96\n"
     ]
    },
    {
     "name": "stderr",
     "output_type": "stream",
     "text": [
      "  2%|▏         | 67/3892 [6:59:16<721:30:05, 679.06s/it]"
     ]
    },
    {
     "name": "stdout",
     "output_type": "stream",
     "text": [
      "Starting the estimation of properties with subhalo particles for galaxy 101\n",
      "Galaxy 101 have no gas\n",
      "Starting the estimation of properties with subhalo particles for galaxy 101\n",
      "Starting the estimation of properties with halo particles for galaxy 101\n"
     ]
    },
    {
     "name": "stderr",
     "output_type": "stream",
     "text": [
      "  2%|▏         | 68/3892 [7:10:11<713:35:49, 671.80s/it]"
     ]
    },
    {
     "name": "stdout",
     "output_type": "stream",
     "text": [
      "Starting the estimation of properties with subhalo particles for galaxy 105\n",
      "Galaxy 105 have no gas\n",
      "Starting the estimation of properties with subhalo particles for galaxy 105\n",
      "Starting the estimation of properties with halo particles for galaxy 105\n"
     ]
    },
    {
     "name": "stderr",
     "output_type": "stream",
     "text": [
      "  2%|▏         | 69/3892 [7:21:10<709:19:20, 667.95s/it]"
     ]
    },
    {
     "name": "stdout",
     "output_type": "stream",
     "text": [
      "Starting the estimation of properties with subhalo particles for galaxy 108\n",
      "Galaxy 108 have no gas\n",
      "Starting the estimation of properties with subhalo particles for galaxy 108\n",
      "Starting the estimation of properties with halo particles for galaxy 108\n"
     ]
    },
    {
     "name": "stderr",
     "output_type": "stream",
     "text": [
      "  2%|▏         | 70/3892 [7:32:08<706:01:43, 665.02s/it]"
     ]
    },
    {
     "name": "stdout",
     "output_type": "stream",
     "text": [
      "Starting the estimation of properties with subhalo particles for galaxy 17185\n"
     ]
    }
   ],
   "source": [
    "# Initialization of properties \n",
    "properties = np.zeros((nsubhalos, 17))\n",
    "\n",
    "# 0: ID\n",
    "# 1: central (1 if central, 0 if not)\n",
    "# 2: SubMass [Msun]\n",
    "# 3: SubSFR\n",
    "# 4: SubHMR [kPc]\n",
    "# 5: x [kPc]\n",
    "# 6: y [kPc]\n",
    "# 7: z [kPc]\n",
    "# 8: vx [km/s]\n",
    "# 9: vy [km/s]\n",
    "# 10: vz [km/s]\n",
    "# 11: SubVmax [km/s]\n",
    "# 12: SubVmaxR [kPc]\n",
    "# 13: SubHMRG [kPc] Comoving radius containing half of the mass of this Subhalo \n",
    "                    # split by Type (SubhaloMassType). Type 4 = gas\n",
    "# 14: costheta. Cosine of the angle between the angular momenta and the main axis\n",
    "                # of the inertia tensor.\n",
    "# 15: kappa_AM\n",
    "# 16: kappa_IT\n",
    "\n",
    "#i = 2\n",
    "for i in tqdm(range(1,nsubhalos)):\n",
    "    ids = subhalos['results'][i]['id']\n",
    "    try:\n",
    "        gr = data.create_group('SubID_' + str(ids))\n",
    "        flag_gr = True\n",
    "    except:\n",
    "        print('Subhalo already exists')\n",
    "        flag_gr = False\n",
    "\n",
    "    if flag_gr:\n",
    "        # Let's load the data of the subhalos\n",
    "        sub_meta = il.groupcat.loadSingle('/home/tnguser/sims.TNG/TNG100-1/output/', 99, subhaloID = ids)\n",
    "        # --------------------------------------------------------\n",
    "\n",
    "        # Let's save the main properties  ------------------------           \n",
    "        properties[i, 0] = ids   \n",
    "        gid = sub_meta['SubhaloGrNr']\n",
    "        if gid == ids:\n",
    "            properties[i, 1] = 1\n",
    "        properties[i, 2] = sub_meta['SubhaloMass'] * 1e10 / h\n",
    "        properties[i, 3] = sub_meta['SubhaloSFR']\n",
    "        properties[i, 4] = sub_meta['SubhaloHalfmassRad'] / h\n",
    "        properties[i, 5] = sub_meta['SubhaloPos'][0] / h\n",
    "        properties[i, 6] = sub_meta['SubhaloPos'][1] / h\n",
    "        properties[i, 7] = sub_meta['SubhaloPos'][2] / h\n",
    "        properties[i, 8] = sub_meta['SubhaloVel'][0]\n",
    "        properties[i, 9] = sub_meta['SubhaloVel'][1]\n",
    "        properties[i, 10] = sub_meta['SubhaloVel'][2]\n",
    "        properties[i, 11] = sub_meta['SubhaloVmax']\n",
    "        properties[i, 12] = sub_meta['SubhaloVmaxRad'] / h\n",
    "        properties[i, 13] = sub_meta['SubhaloHalfmassRadType'][4] / h \n",
    "        # --------------------------------------------------------\n",
    "\n",
    "        # Let's estimate properties with the particles of the subhalos\n",
    "        print('Starting the estimation of properties with subhalo particles for galaxy ' + str(ids))\n",
    "        #try:\n",
    "        sub_meta     = get(subhalos['results'][i]['url'])\n",
    "        sub_data_url = subhalos['results'][i]['url'] + 'vis.hdf5'\n",
    "        center_sub   = properties[i, 5:8]\n",
    "        velocity     = properties[i, 8:11]\n",
    "\n",
    "        center_sub = np.where(center_sub > 32500, center_sub - 75000, center_sub)\n",
    "        center_sub = np.where(center_sub < -32500, center_sub + 75000, center_sub)\n",
    "\n",
    "        stars_c = get(subhalos['results'][i]['url'] + 'cutout.hdf5', {'stars':'Coordinates'})[0] / h\n",
    "        stars_v = get(subhalos['results'][i]['url'] + 'cutout.hdf5', {'stars':'Velocities'})[0]\n",
    "        stars_m = get(subhalos['results'][i]['url'] + 'cutout.hdf5', {'stars':'Masses'})[0] * 1e10 / h\n",
    "        try:\n",
    "            gas_c   = get(subhalos['results'][i]['url'] + 'cutout.hdf5', {'gas':'Coordinates'})[0] / h\n",
    "            gas_v   = get(subhalos['results'][i]['url'] + 'cutout.hdf5', {'gas':'Velocities'})[0]\n",
    "            gas_m   = get(subhalos['results'][i]['url'] + 'cutout.hdf5', {'gas':'Masses'})[0] * 1e10 / h\n",
    "            flag_gas = True\n",
    "        except:\n",
    "            print('Galaxy ' + str(ids) + ' have no gas')\n",
    "            flag_gas = False\n",
    "        dm_c    = get(subhalos['results'][i]['url'] + 'cutout.hdf5', {'dm':'Coordinates'})[0] / h\n",
    "        dm_v    = get(subhalos['results'][i]['url'] + 'cutout.hdf5', {'dm':'Velocities'})[0]\n",
    "\n",
    "        print('Starting the estimation of properties with subhalo particles for galaxy ' + str(ids))\n",
    "\n",
    "        # Let's move the coordinates if they are near the border\n",
    "        stars_c = np.where(stars_c > 32500, stars_c - 75000, stars_c)\n",
    "        stars_c = np.where(stars_c < -32500, stars_c + 75000, stars_c)\n",
    "        if flag_gas:\n",
    "            gas_c = np.where(gas_c > 32500, gas_c - 75000, gas_c)\n",
    "            gas_c = np.where(gas_c < -32500, gas_c + 75000, gas_c)\n",
    "        dm_c = np.where(dm_c > 32500, dm_c - 75000, dm_c)\n",
    "        dm_c = np.where(dm_c < -32500, dm_c + 75000, dm_c)\n",
    "        # --------------------------------------------------------\n",
    "\n",
    "        # Let's move the coordinates to be center on the subhalo\n",
    "        stars_c = stars_c - center_sub\n",
    "        if flag_gas:\n",
    "            gas_c   = gas_c - center_sub\n",
    "        dm_c    = dm_c - center_sub\n",
    "\n",
    "        stars_v = stars_v - velocity\n",
    "        if flag_gas:\n",
    "            gas_v   = gas_v - velocity\n",
    "        dm_v    = dm_v - velocity\n",
    "        # --------------------------------------------------------\n",
    "\n",
    "        # Let's Compute the distance of each DM particle to the center and sum in radial bins\n",
    "        dist = []\n",
    "        for d in dm_c:\n",
    "            D = np.sqrt(sum([c**2 for c in d]))\n",
    "            if D < 100: dist.append(D)\n",
    "        R_bins = np.geomspace(1, 100, 20)\n",
    "        M = np.array([len(np.where(np.array(dist) < R)[0]) * M_dm for R in R_bins])\n",
    "        # --------------------------------------------------------\n",
    "\n",
    "        # Let's Compute the distance of each star particle to the center and sum in radial bins\n",
    "        dist = []\n",
    "        for d in stars_c:\n",
    "            D = np.sqrt(sum([c**2 for c in d]))\n",
    "            if D < 100: dist.append(D)\n",
    "        M_stars = np.array([np.sum( stars_m[np.where(np.array(dist) < R)[0]] ) for R in R_bins])\n",
    "        # --------------------------------------------------------\n",
    "\n",
    "        # Compute the distance of each particle to the center and sum in radial bins\n",
    "        if flag_gas:\n",
    "            dist = []\n",
    "            for d in gas_c:\n",
    "                D = np.sqrt(sum([c**2 for c in d]))\n",
    "                if D < 100: dist.append(D)\n",
    "            M_gas = np.array([np.sum( gas_m[np.where(np.array(dist) < R)[0]] ) for R in R_bins])\n",
    "        # --------------------------------------------------------\n",
    "\n",
    "        # Let's save the data of these profiles\n",
    "        gr.create_dataset('R_bins_sub', data = R_bins)\n",
    "        gr.create_dataset('M_DM_sub', data = M)\n",
    "        gr.create_dataset('M_stars_sub', data = M_stars)   \n",
    "        if flag_gas:\n",
    "            gr.create_dataset('M_gas_sub', data = M_gas)\n",
    "        # --------------------------------------------------------\n",
    "\n",
    "        # Let's compute the rotation matrix taking into accunt the inertia tensor\n",
    "        rot_mat_IT, L_IT = compute_rot_mat_inertia(stars_c, stars_m, Rmax = 2 * properties[i, 13])\n",
    "        # --------------------------------------------------------\n",
    "\n",
    "        # Let's compute the rotation matrix taking into accunt the angular momentum tensor\n",
    "        rot_mat_AM, L_AM = compute_rot_mat_angMom(stars_c, stars_v, stars_m, Rmax = 2 * properties[i, 13])\n",
    "        # --------------------------------------------------------\n",
    "\n",
    "        # Let's rotate the coordiantes with AM\n",
    "        dm_c_rot_AM = dm_c @ rot_mat_AM\n",
    "        dm_v_rot_AM = dm_v @ rot_mat_AM\n",
    "        stars_c_rot_AM = stars_c @ rot_mat_AM\n",
    "        stars_v_rot_AM = stars_v @ rot_mat_AM\n",
    "        if flag_gas:\n",
    "            gas_c_rot_AM = gas_c @ rot_mat_AM\n",
    "            gas_v_rot_AM = gas_v @ rot_mat_AM\n",
    "\n",
    "        L_AM_rot_AM = L_AM @ rot_mat_AM\n",
    "        L_IT_rot_AM = L_IT @ rot_mat_AM\n",
    "        # --------------------------------------------------------\n",
    "\n",
    "        # Let's rotate the coordiantes with IT\n",
    "        dm_c_rot_IT = dm_c @ rot_mat_IT\n",
    "        dm_v_rotv = dm_v @ rot_mat_IT\n",
    "        stars_c_rot_IT = stars_c @ rot_mat_IT\n",
    "        stars_v_rot_IT = stars_v @ rot_mat_IT\n",
    "        if flag_gas:\n",
    "            gas_c_rot_IT = gas_c @ rot_mat_IT\n",
    "            gas_v_rot_IT = gas_v @ rot_mat_IT\n",
    "\n",
    "        L_AM_rot_IT = L_AM @ rot_mat_IT\n",
    "        L_IT_rot_IT = L_IT @ rot_mat_IT\n",
    "        # --------------------------------------------------------\n",
    "\n",
    "        # Let's aligendthe stars with the IT\n",
    "        x_stars_IT  = stars_c_rot_IT[:,0]\n",
    "        y_stars_IT  = stars_c_rot_IT[:,1]\n",
    "        z_stars_IT  = stars_c_rot_IT[:,2]\n",
    "        vx_stars_IT = stars_v_rot_IT[:,0]\n",
    "        vy_stars_IT = stars_v_rot_IT[:,1]\n",
    "        vz_stars_IT = stars_v_rot_IT[:,2]\n",
    "        # --------------------------------------------------------\n",
    "\n",
    "\n",
    "        # Let's move to cylindrical coordinates and the kinematical properties\n",
    "        r_stars_IT         = np.sqrt(x_stars_IT**2 + y_stars_IT**2)\n",
    "        phi_stars_IT       = np.arctan2(y_stars_IT, x_stars_IT)\n",
    "        jz_stars_IT        = x_stars_IT * vy_stars_IT - y_stars_IT * vx_stars_IT\n",
    "        Erot_stars_IT      = stars_m * (jz_stars_IT**2) / (r_stars_IT**2)\n",
    "        Ek_stars_IT        = stars_m * (vx_stars_IT**2 + vy_stars_IT**2 + vz_stars_IT**2)\n",
    "        kappa_stars_IT     = np.sum(Erot_stars_IT) / np.sum(Ek_stars_IT)\n",
    "        vphi_full_stars_IT = jz_stars_IT / r_stars_IT\n",
    "        # --------------------------------------------------------\n",
    "\n",
    "\n",
    "        # Now aligend the stars with the AM\n",
    "\n",
    "        x_stars_AM  = stars_c_rot_AM[:,0]\n",
    "        y_stars_AM  = stars_c_rot_AM[:,1]\n",
    "        z_stars_AM  = stars_c_rot_AM[:,2]\n",
    "        vx_stars_AM = stars_v_rot_AM[:,0]\n",
    "        vy_stars_AM = stars_v_rot_AM[:,1]\n",
    "        vz_stars_AM = stars_v_rot_AM[:,2]\n",
    "        # --------------------------------------------------------\n",
    "\n",
    "        # Let's move to cylindrical coordinates and the kinematical properties\n",
    "        r_stars_AM     = np.sqrt(x_stars_AM**2 + y_stars_AM**2)\n",
    "        phi_stars_AM   = np.arctan2(y_stars_AM, x_stars_AM)\n",
    "        jz_stars_AM    = x_stars_AM * vy_stars_AM - y_stars_AM * vx_stars_AM\n",
    "        Erot_stars_AM  = stars_m * (jz_stars_AM**2) / (r_stars_AM**2)\n",
    "        Ek_stars_AM    = stars_m * (vx_stars_AM**2 + vy_stars_AM**2 + vz_stars_AM**2)\n",
    "        kappa_stars_AM = np.sum(Erot_stars_AM) / np.sum(Ek_stars_AM)\n",
    "        vphi_full_stars_AM = jz_stars_AM / r_stars_AM\n",
    "        # --------------------------------------------------------\n",
    "\n",
    "        # Let's save the main properties\n",
    "        properties[i, 14] = np.dot(L_IT, L_AM) / ( np.linalg.norm(L_IT) * np.linalg.norm(L_AM) )\n",
    "        properties[i, 15] = kappa_stars_AM\n",
    "        properties[i, 16] = kappa_stars_IT\n",
    "        # --------------------------------------------------------\n",
    "\n",
    "        # Let's compute rotation curve with gas\n",
    "\n",
    "        # Let's aligend the gas with the IT\n",
    "        if flag_gas:\n",
    "            x_gas_IT  = gas_c_rot_IT[:,0]\n",
    "            y_gas_IT  = gas_c_rot_IT[:,1]\n",
    "            z_gas_IT  = gas_c_rot_IT[:,2]\n",
    "            vx_gas_IT = gas_v_rot_IT[:,0]\n",
    "            vy_gas_IT = gas_v_rot_IT[:,1]\n",
    "            vz_gas_IT = gas_v_rot_IT[:,2]\n",
    "            # --------------------------------------------------------\n",
    "\n",
    "            # Let's move to cylindrical coordinates and compute the kinematical properties\n",
    "            r_gas_IT         = np.sqrt(x_gas_IT**2 + y_gas_IT**2)\n",
    "            phi_gas_IT       = np.arctan2(y_gas_IT, x_gas_IT)\n",
    "            jz_gas_IT        = x_gas_IT * vy_gas_IT - y_gas_IT * vx_gas_IT\n",
    "            Erot_gas_IT      = gas_m * (jz_gas_IT**2) / (r_gas_IT**2)\n",
    "            Ek_gas_IT        = gas_m * (vx_gas_IT**2 + vy_gas_IT**2 + vz_gas_IT**2)\n",
    "            kappa_gas_IT     = np.sum(Erot_gas_IT) / np.sum(Ek_gas_IT)\n",
    "            vphi_full_gas_IT = jz_gas_IT / r_gas_IT\n",
    "            # --------------------------------------------------------\n",
    "\n",
    "            # Now let's aligend the gas with the AM\n",
    "\n",
    "            x_gas_AM  = gas_c_rot_AM[:,0]\n",
    "            y_gas_AM  = gas_c_rot_AM[:,1]\n",
    "            z_gas_AM  = gas_c_rot_AM[:,2]\n",
    "            vx_gas_AM = gas_v_rot_AM[:,0]\n",
    "            vy_gas_AM = gas_v_rot_AM[:,1]\n",
    "            vz_gas_AM = gas_v_rot_AM[:,2]\n",
    "\n",
    "            # Let's move to cylindrical coordinates and compute the kinematical properties\n",
    "            r_gas_AM     = np.sqrt(x_gas_AM**2 + y_gas_AM**2)\n",
    "            phi_gas_AM   = np.arctan2(y_gas_AM, x_gas_AM)\n",
    "            jz_gas_AM    = x_gas_AM * vy_gas_AM - y_gas_AM * vx_gas_AM\n",
    "            Erot_gas_AM  = gas_m * (jz_gas_AM**2) / (r_gas_AM**2)\n",
    "            Ek_gas_AM    = gas_m * (vx_gas_AM**2 + vy_gas_AM**2 + vz_gas_AM**2)\n",
    "            kappa_gas_AM = np.sum(Erot_gas_AM) / np.sum(Ek_gas_AM)\n",
    "            vphi_full_gas_AM = jz_gas_AM / r_gas_AM\n",
    "            # --------------------------------------------------------\n",
    "\n",
    "            # Let's compute the binned rotational curves and saved it\n",
    "            v_rot_gas_IT, bin_edges,_ = binned_statistic(r_gas_IT, np.abs(vphi_full_gas_IT), 'mean', bins = R_bins)\n",
    "            v_std_gas_IT,_,_ = binned_statistic(r_gas_IT, np.abs(vphi_full_gas_IT), 'std', bins = R_bins)\n",
    "            v_rot_gas_AM,_,_ = binned_statistic(r_gas_AM, np.abs(vphi_full_gas_AM), 'mean', bins = R_bins)\n",
    "            v_std_gas_AM,_,_ = binned_statistic(r_gas_AM, np.abs(vphi_full_gas_IT), 'std', bins = R_bins)\n",
    "\n",
    "        v_rot_stars_IT, bin_edges,_  = binned_statistic(r_stars_IT, np.abs(vphi_full_stars_IT), 'mean', bins = R_bins)\n",
    "        v_std_stars_IT,_,_ = binned_statistic(r_stars_IT, np.abs(vphi_full_stars_IT), 'std', bins = R_bins)\n",
    "        v_rot_stars_AM,_,_ = binned_statistic(r_stars_AM, np.abs(vphi_full_stars_AM), 'mean', bins = R_bins)\n",
    "        v_std_stars_AM,_,_ = binned_statistic(r_stars_AM, np.abs(vphi_full_stars_AM), 'std', bins = R_bins)\n",
    "\n",
    "        bin_width = (bin_edges[1] - bin_edges[0])\n",
    "        bin_centers = bin_edges[1:] - bin_width/2\n",
    "\n",
    "        gr.create_dataset('R_bins_vels', data = bin_centers)\n",
    "        if flag_gas:\n",
    "            gr.create_dataset('V_rot_gas_IT', data = v_rot_gas_IT)\n",
    "            gr.create_dataset('V_std_gas_IT', data = v_std_gas_IT)\n",
    "            gr.create_dataset('V_rot_gas_AM', data = v_rot_gas_AM)\n",
    "            gr.create_dataset('V_std_gas_AM', data = v_std_gas_AM)\n",
    "        gr.create_dataset('V_rot_stars_IT', data = v_rot_stars_IT)\n",
    "        gr.create_dataset('V_std_stars_IT', data = v_std_stars_IT)\n",
    "        gr.create_dataset('V_rot_stars_AM', data = v_rot_stars_AM)\n",
    "        gr.create_dataset('V_std_stars_AM', data = v_std_stars_AM)\n",
    "        # ---------------------------------------------------------------------------------------\n",
    "\n",
    "        # Let's estimate the real profiles taking into account the halo\n",
    "        print('Starting the estimation of properties with halo particles for galaxy ' + str(ids))\n",
    "\n",
    "        # Let's load the DM particles of the halo to which the subhalo belongs\n",
    "        dm_halo = il.snapshot.loadHalo('/home/tnguser/sims.TNG/TNG100-1/output/', 99, gid, 'dm', fields=['Coordinates']) / h\n",
    "        # ---------------------------------------------------------------------------------------\n",
    "\n",
    "        # If the halo is near the border let's center it\n",
    "        dm_halo = np.where(dm_halo > 32500, dm_halo - 75000, dm_halo) \n",
    "        dm_halo = np.where(dm_halo < -32500, dm_halo + 75000, dm_halo)\n",
    "        # ---------------------------------------------------------------------------------------\n",
    "\n",
    "        # Now let's put the dm particle coordinates with respect to the center of the halo\n",
    "        dm_halo = dm_halo - center_sub\n",
    "        # ---------------------------------------------------------------------------------------\n",
    "\n",
    "        # Compute the distance of each particle to the center and sum in radial bins\n",
    "        dist = []\n",
    "        for d in dm_halo:\n",
    "            D = np.sqrt(sum([c**2 for c in d]))\n",
    "            if D < 100: dist.append(D)\n",
    "        R_bins = np.geomspace(1, 100, 20)\n",
    "        M = np.array([len(np.where(np.array(dist) < R)[0]) * M_dm for R in R_bins])\n",
    "        # ---------------------------------------------------------------------------------------\n",
    "\n",
    "        # Let's load the stars particles of the halo to which the subhalo belongs\n",
    "        stars_halo = il.snapshot.loadHalo('/home/tnguser/sims.TNG/TNG100-1/output/', 99, gid, 'stars', fields=['Coordinates']) / h\n",
    "        masses = il.snapshot.loadHalo('/home/tnguser/sims.TNG/TNG100-1/output/', 99, gid, 'stars', fields=['Masses']) * 1e10 / h\n",
    "        # ---------------------------------------------------------------------------------------\n",
    "\n",
    "        # If the halo is near the border let's center it\n",
    "        stars_halo = np.where(stars_halo > 32500, stars_halo - 75000, stars_halo)\n",
    "        stars_halo = np.where(stars_halo < -32500, stars_halo + 75000, stars_halo)\n",
    "        # ---------------------------------------------------------------------------------------\n",
    "\n",
    "        # Now let's put the stars particle coordinates with respect to the center of the halo\n",
    "        stars_halo = stars_halo - center_sub\n",
    "        # ---------------------------------------------------------------------------------------\n",
    "\n",
    "        # Compute the distance of each particle to the center and sum in radial bins\n",
    "        dist = []\n",
    "        for d in stars_halo:\n",
    "            D = np.sqrt(sum([c**2 for c in d]))\n",
    "            if D < 100: dist.append(D)\n",
    "        M_stars = np.array([np.sum( masses[np.where(np.array(dist) < R)[0]] ) for R in R_bins])\n",
    "        # ---------------------------------------------------------------------------------------\n",
    "\n",
    "        # Let's load the stars particles of the halo to which the subhalo belongs\n",
    "        gas_halo = il.snapshot.loadHalo('/home/tnguser/sims.TNG/TNG100-1/output/', 99, gid, 'gas', fields=['Coordinates']) / h\n",
    "        masses = il.snapshot.loadHalo('/home/tnguser/sims.TNG/TNG100-1/output/', 99, gid, 'gas', fields=['Masses']) * 1e10 / h\n",
    "        # ---------------------------------------------------------------------------------------\n",
    "\n",
    "        # If the halo is near the border let's center it\n",
    "        gas_halo = np.where(gas_halo > 32500, gas_halo - 75000, gas_halo)\n",
    "        gas_halo = np.where(gas_halo < -32500, gas_halo + 75000, gas_halo)\n",
    "        # ---------------------------------------------------------------------------------------\n",
    "\n",
    "        # Now let's put the stars particle coordinates with respect to the center of the halo\n",
    "        gas_halo = gas_halo - center_sub\n",
    "        # ---------------------------------------------------------------------------------------\n",
    "\n",
    "        # Compute the distance of each particle to the center and sum in radial bins\n",
    "        dist = []\n",
    "        for d in gas_halo:\n",
    "            D = np.sqrt(sum([c**2 for c in d]))\n",
    "            if D < 100: dist.append(D)\n",
    "        M_gas = np.array([np.sum( masses[np.where(np.array(dist) < R)[0]] ) for R in R_bins])\n",
    "\n",
    "        gr.create_dataset('R_bins', data = R_bins)\n",
    "        gr.create_dataset('M_DM', data = M)\n",
    "        gr.create_dataset('M_stars', data = M_stars)   \n",
    "        gr.create_dataset('M_gas', data = M_gas)\n",
    "# ---------------------------------------------------------------------------------------\n",
    "#except:\n",
    "#    pass\n",
    "\n",
    "# Let's delete from the properties dataset the rows with no info\n",
    "properties = np.delete(properties, np.where(properties[:,2] == 0)[0], axis = 0)\n",
    "\n",
    "if len(properties[:,0] > 0):\n",
    "    if flag_MainProps:\n",
    "        properties = np.vstack((old_MainProps, properties))\n",
    "        del data['MainProps']\n",
    "        data.create_dataset('MainProps', data = properties)\n",
    "    else:\n",
    "        data.create_dataset('MainProps', data = properties)\n",
    "data.close()"
   ]
  },
  {
   "cell_type": "code",
   "execution_count": 20,
   "metadata": {},
   "outputs": [],
   "source": [
    "data.close()"
   ]
  },
  {
   "cell_type": "code",
   "execution_count": null,
   "metadata": {},
   "outputs": [],
   "source": [
    "1"
   ]
  },
  {
   "cell_type": "code",
   "execution_count": null,
   "metadata": {},
   "outputs": [],
   "source": []
  }
 ],
 "metadata": {
  "kernelspec": {
   "display_name": "Python 3",
   "language": "python",
   "name": "python3"
  },
  "language_info": {
   "codemirror_mode": {
    "name": "ipython",
    "version": 3
   },
   "file_extension": ".py",
   "mimetype": "text/x-python",
   "name": "python",
   "nbconvert_exporter": "python",
   "pygments_lexer": "ipython3",
   "version": "3.6.7"
  }
 },
 "nbformat": 4,
 "nbformat_minor": 2
}
