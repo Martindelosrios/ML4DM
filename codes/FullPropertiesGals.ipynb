{
 "cells": [
  {
   "cell_type": "markdown",
   "metadata": {
    "jp-MarkdownHeadingCollapsed": true,
    "tags": []
   },
   "source": [
    "# Importing the needed libraries"
   ]
  },
  {
   "cell_type": "code",
   "execution_count": 1,
   "metadata": {},
   "outputs": [],
   "source": [
    "import os\n",
    "import sys\n",
    "import time\n",
    "import argparse\n",
    "import requests\n",
    "import contextlib\n",
    "from tqdm import tqdm\n",
    "import tempfile\n",
    "import h5py\n",
    "import atexit\n",
    "import numpy as np\n",
    "from illustris_python.groupcat import loadSingle, loadHeader\n",
    "import illustris_python as il\n",
    "import matplotlib.pyplot as plt\n",
    "import mpl_toolkits.mplot3d as mpl3\n",
    "from numpy.linalg import eig\n",
    "from numpy.linalg import eigh\n",
    "from scipy.optimize import curve_fit, root\n",
    "from scipy.spatial.transform import Rotation as R\n",
    "from scipy.stats import binned_statistic\n",
    "from matplotlib.gridspec import GridSpec\n",
    "\n",
    "\n",
    "G     = 4.3e-6 # Grav. constant [kPc/M_{sun} (km/s)^2]\n",
    "H0    = 67.74 # Hubble Constant [km/s / Mpc]\n",
    "h     = H0 / 100 \n",
    "rho_c = 3*(H0**2)/(8*np.pi*G*1e-3) # Critical density [M_{sun}/Mpc**3]\n",
    "rho_c = rho_c * (1e-3 ** 3) #2.7754 * 1e2 * (H0/100)**2 # Critical density [M_{sun}/Kpc**3]\n",
    "Nfields = 9\n",
    "M_dm    = 7.5e6 # M_sun\n",
    "headers = {\"api-key\": '81b7c70637fa8b110e6b9f236ea07c37'}"
   ]
  },
  {
   "cell_type": "markdown",
   "metadata": {
    "jp-MarkdownHeadingCollapsed": true,
    "tags": []
   },
   "source": [
    "# Some custom functions"
   ]
  },
  {
   "cell_type": "code",
   "execution_count": 2,
   "metadata": {},
   "outputs": [],
   "source": [
    "def get(path, params=None, folderName=''):\n",
    "    '''\n",
    "    Illustris function\n",
    "    '''\n",
    "    # make HTTP GET request to path\n",
    "    r = requests.get(path, params=params, headers=headers)\n",
    "\n",
    "    # raise exception if response code is not HTTP SUCCESS (200)\n",
    "    r.raise_for_status()\n",
    "\n",
    "    if r.headers['content-type'] == 'application/json':\n",
    "        return r.json() # parse json responses automatically\n",
    "\n",
    "    if 'content-disposition' in r.headers:\n",
    "        filename = r.headers['content-disposition'].split(\"filename=\")[1]\n",
    "        if filename.endswith('.hdf5'):\n",
    "            file_access_property_list = h5py.h5p.create(h5py.h5p.FILE_ACCESS)\n",
    "            file_access_property_list.set_fapl_core(backing_store=False)\n",
    "            file_access_property_list.set_file_image(r.content)\n",
    "            \n",
    "            file_id_args = {\n",
    "                'fapl': file_access_property_list,\n",
    "                'flags': h5py.h5f.ACC_RDONLY,\n",
    "                'name': next(tempfile._get_candidate_names()).encode()\n",
    "            }\n",
    "            \n",
    "            h5_file_args = {'backing_store': False, 'driver': 'core', 'mode': 'r'}\n",
    "            with contextlib.closing(h5py.h5f.open(**file_id_args)) as file_id:\n",
    "                with h5py.File(file_id, **h5_file_args) as h5_file:\n",
    "                    #return np.array(h5_file['grid'])\n",
    "                    if 'grid' in h5_file.keys(): return np.array(h5_file['grid'])\n",
    "                    else:\n",
    "                        results = []\n",
    "                        for k in h5_file.keys():\n",
    "                            for sk in h5_file[k].keys():\n",
    "                                results.append(np.array(h5_file[k][sk]))\n",
    "                        return results\n",
    "        else:\n",
    "            with open(folderName + filename, 'wb') as f:\n",
    "                f.write(r.content)\n",
    "            return filename # return the filename string\n",
    "    return r\n"
   ]
  },
  {
   "cell_type": "code",
   "execution_count": 3,
   "metadata": {},
   "outputs": [],
   "source": [
    "def get1(path, name, params=None):\n",
    "    '''\n",
    "    Illustris function\n",
    "    '''\n",
    "    # make HTTP GET request to path\n",
    "    headers = {\"api-key\":\"81b7c70637fa8b110e6b9f236ea07c37\"}\n",
    "    r = requests.get(path, params=params, headers=headers)\n",
    "    # raise exception if response code is not HTTP SUCCESS (200)\n",
    "    r.raise_for_status()\n",
    "    if r.headers['content-type'] == 'application/json':\n",
    "        return r.json() # parse json responses automatically\n",
    "    if 'content-disposition' in r.headers:\n",
    "        filename = r.headers['content-disposition'].split(\"filename=\")[1]\n",
    "        with open(name + '.hdf5', 'wb') as f:\n",
    "            f.write(r.content)\n",
    "        return name + '.hdf5' # return the filename string\n",
    "    return NULL"
   ]
  },
  {
   "cell_type": "code",
   "execution_count": 4,
   "metadata": {},
   "outputs": [],
   "source": [
    "def compute_mass_profile(gid, center):\n",
    "    '''\n",
    "    MIHAEL FUNCTION: compute the dark matter mass enclosed in 20 radii\n",
    "    from 1 to 100 kPc\n",
    "    \n",
    "    Parameters\n",
    "    ----------\n",
    "    gid : int \n",
    "        GroupID\n",
    "    center : list\n",
    "        (x,y,z) Position of the group\n",
    "    \n",
    "    Returns\n",
    "    -------\n",
    "    \n",
    "    NP Array\n",
    "        Array with the dark matter mass enclosed in 20 radii from 1 to 100 kPc\n",
    "    '''\n",
    "    dm = il.snapshot.loadHalo('/home/tnguser/sims.TNG/TNG100-1/output/', 99, gid, 'dm', fields=['Coordinates'])\n",
    "    dm = np.where(dm > 32500, dm - 75000, dm)\n",
    "    dm = np.where(dm < -32500, dm + 75000, dm)\n",
    "    center = np.where(center > 32500, center - 75000, center)\n",
    "    center = np.where(center < -32500, center + 75000, center)\n",
    "    dm = dm - center\n",
    "    dist = []\n",
    "    for d in dm:\n",
    "        D = np.sqrt(sum([c**2 for c in d]))\n",
    "        if D < 100: dist.append(D)\n",
    "    R_bins = np.geomspace(1, 100, 20)\n",
    "    M = np.array([len(np.where(np.array(dist) < R)[0]) * M_dm for R in R_bins])\n",
    "    return M"
   ]
  },
  {
   "cell_type": "code",
   "execution_count": 5,
   "metadata": {},
   "outputs": [],
   "source": [
    "def compute_total_mass_profile(Rmax, Rmin, Nm, sub_meta, url):\n",
    "    '''\n",
    "    Computes the dark matter, stars and gas mass enclosed in Nm radii\n",
    "    from Rmin to Rmax kPc\n",
    "    \n",
    "    Parameters\n",
    "    ----------\n",
    "    Rmin, Rmax : float \n",
    "        Min and Max radii\n",
    "    Nm : int\n",
    "        Number of radial bins\n",
    "    sub_meta : str\n",
    "        Illustris information of the subhalo\n",
    "    url : str\n",
    "        Url to the Illustris server\n",
    "    \n",
    "    Returns\n",
    "    -------\n",
    "    \n",
    "    List\n",
    "        List of 4 Arrays corresponding to the radial bins and the \n",
    "        dark matter, stars and gas mass enclosed in Nm radii from \n",
    "        Rmin to Rmax kPc\n",
    "    '''\n",
    "    center = np.array([sub_meta['pos_x'], sub_meta['pos_y'], sub_meta['pos_z']])\n",
    "    particles  = get(url + 'cutout.hdf5', {'dm':'Coordinates',\n",
    "                                                'gas':'Coordinates,Masses',\n",
    "                                                'stars':'Coordinates,Masses'\n",
    "                                               })\n",
    "    \n",
    "    dm = particles[2] - center\n",
    "    dm = np.where(dm > 32500, dm - 75000, dm)\n",
    "    dm = np.where(dm < -32500, dm + 75000, dm)\n",
    "    \n",
    "    dist_dm = []\n",
    "    for d in dm:\n",
    "        D = np.sqrt(sum([c**2 for c in d]))\n",
    "        dist_dm.append(D)\n",
    "    \n",
    "    m_gas = particles[1] * 1e10/h\n",
    "    gas = particles[0] - center\n",
    "    gas = np.where(gas > 32500, gas - 75000, gas)\n",
    "    gas = np.where(gas < -32500, gas + 75000, gas)\n",
    "    \n",
    "    dist_gas = []\n",
    "    for d in gas:\n",
    "        D = np.sqrt(sum([c**2 for c in d]))\n",
    "        dist_gas.append(D)\n",
    "\n",
    "    m_stars = particles[4] * 1e10/h\n",
    "    stars = particles[3] - center\n",
    "    stars = np.where(stars > 32500, stars - 75000, stars)\n",
    "    stars = np.where(stars < -32500, stars + 75000, stars)\n",
    "    \n",
    "    dist_stars = []\n",
    "    for d in stars:\n",
    "        D = np.sqrt(sum([c**2 for c in d]))\n",
    "        dist_stars.append(D)\n",
    "            \n",
    "    R_bins = np.geomspace(Rmin, Rmax, Nm)\n",
    "    \n",
    "    p_dm    = np.array([len(np.where(np.array(dist_dm) < R)[0]) * M_dm for R in R_bins])\n",
    "    p_stars = np.array([sum(m_stars[np.where(np.array(dist_stars) < R)[0]]) for R in R_bins])\n",
    "    p_gas   = np.array([sum(m_gas[np.where(np.array(dist_gas) < R)[0]]) for R in R_bins])\n",
    "    return R_bins, p_dm, p_stars, p_gas"
   ]
  },
  {
   "cell_type": "code",
   "execution_count": 6,
   "metadata": {},
   "outputs": [],
   "source": [
    "def compute_rot_mat_inertia(coordinates, masses, Rmin=0, Rmax=20):\n",
    "    '''\n",
    "    MIHAEL FUNCTION: computes the intertia momenta of a subhalo with ID sid\n",
    "    \n",
    "    Parameters\n",
    "    ----------\n",
    "    \n",
    "    \n",
    "    Returns\n",
    "    -------\n",
    "    \n",
    "    Matrix\n",
    "        Rotation matrix for align the intertia momenta with the z-axis\n",
    "    '''\n",
    "    \n",
    "    dist = np.linalg.norm(coordinates, axis=1)\n",
    "    indices1 = np.argwhere(dist < Rmin)\n",
    "    indices2 = np.argwhere(dist > Rmax)\n",
    "    indices = np.concatenate((indices1, indices2))\n",
    "    distances = np.delete(dist, indices)\n",
    "    coordinates = np.delete(coordinates, indices, axis=0)\n",
    "    masses = np.delete(masses, indices)\n",
    "    \n",
    "    I = np.zeros((3,3))\n",
    "    for i in range(3):\n",
    "        for j in range(3):\n",
    "            if i == j: I[i][j] = np.sum(masses * (distances**2 - coordinates[:,i] * coordinates[:,j]))\n",
    "            else: I[i][j] = np.sum(masses * (- coordinates[:,i] * coordinates[:,j]))\n",
    "    \n",
    "    I_eign = np.linalg.eigh(I)\n",
    "    L = I_eign[1][2]\n",
    "    #print(I)\n",
    "    #print(L / np.linalg.norm(L))\n",
    "    \n",
    "    rot, _ = R.align_vectors([L, np.cross(L, [1,0,0])], [[0,0,1],[0,1,0]])\n",
    "    return rot.as_matrix(), L\n",
    "\n"
   ]
  },
  {
   "cell_type": "code",
   "execution_count": 7,
   "metadata": {},
   "outputs": [],
   "source": [
    "def compute_rot_mat_angMom(coordinates, velocities, masses, Rmin = 0, Rmax = 20):\n",
    "    \n",
    "    dist = np.linalg.norm(coordinates, axis=1)\n",
    "    indices1 = np.argwhere(dist < Rmin)\n",
    "    indices2 = np.argwhere(dist > Rmax)\n",
    "    indices = np.concatenate((indices1, indices2))\n",
    "    distances = np.delete(dist, indices)\n",
    "    \n",
    "    coordinates = np.delete(coordinates, indices, axis = 0)\n",
    "    masses = np.delete(masses, indices)\n",
    "    velocities = np.delete(velocities, indices, axis = 0)\n",
    "    \n",
    "    L = (np.cross(coordinates, velocities).T * np.array(masses)).T\n",
    "    Lmean = np.mean(L, axis=0)\n",
    "    #print(Lmean / np.linalg.norm(Lmean))\n",
    "    \n",
    "    rot, _ = R.align_vectors([Lmean, np.cross(Lmean, [1,0,0])], [[0,0,1],[1,0,0]])\n",
    "    return rot.as_matrix(), Lmean"
   ]
  },
  {
   "cell_type": "code",
   "execution_count": 8,
   "metadata": {},
   "outputs": [],
   "source": [
    "from matplotlib.patches import FancyArrowPatch\n",
    "from mpl_toolkits.mplot3d.axes3d import Axes3D\n",
    "from mpl_toolkits.mplot3d.proj3d import proj_transform\n",
    "\n",
    "class Arrow3D(FancyArrowPatch):\n",
    "\n",
    "    def __init__(self, x, y, z, dx, dy, dz, *args, **kwargs):\n",
    "        super().__init__((0, 0), (0, 0), *args, **kwargs)\n",
    "        self._xyz = (x, y, z)\n",
    "        self._dxdydz = (dx, dy, dz)\n",
    "\n",
    "    def draw(self, renderer):\n",
    "        x1, y1, z1 = self._xyz\n",
    "        dx, dy, dz = self._dxdydz\n",
    "        x2, y2, z2 = (x1 + dx, y1 + dy, z1 + dz)\n",
    "\n",
    "        xs, ys, zs = proj_transform((x1, x2), (y1, y2), (z1, z2), self.axes.M)\n",
    "        self.set_positions((xs[0], ys[0]), (xs[1], ys[1]))\n",
    "        super().draw(renderer)\n",
    "        \n",
    "def _arrow3D(ax, x, y, z, dx, dy, dz, *args, **kwargs):\n",
    "    '''Add an 3d arrow to an `Axes3D` instance.'''\n",
    "\n",
    "    arrow = Arrow3D(x, y, z, dx, dy, dz, *args, **kwargs)\n",
    "    ax.add_artist(arrow)\n",
    "\n",
    "\n",
    "setattr(Axes3D, 'arrow3D', _arrow3D)"
   ]
  },
  {
   "cell_type": "markdown",
   "metadata": {
    "jp-MarkdownHeadingCollapsed": true,
    "tags": []
   },
   "source": [
    "# Looking for the subhalos"
   ]
  },
  {
   "cell_type": "code",
   "execution_count": 9,
   "metadata": {},
   "outputs": [],
   "source": [
    "N     = 40000 # Number of samples.\n",
    "Nm    = 20 #  'Number of radii\n",
    "Rmin  = 1 # Maximal radius.\n",
    "Rmax  = 100 # 'Maximal radius.\n",
    "o     = 0 # Subhalo offset.\n",
    "p     = 254 # Number of pixles.\n",
    "D     = 200 # Image physical extent (in kpc).\n",
    "\n",
    "Mmin  = 1e11 # Minimum total mass.\n",
    "Mmax  = 1e13 # Maximum total mass.\n",
    "Mdmin = 1e9 # Minimum dark matter mass in half radius.\n",
    "Mdmax = 1e13 # Maximum dark matter mass in half radius.\n",
    "Mgmin = 1e8 # Minimum gas mass.\n",
    "Mgmax = 1e13 # Maximum gas mass.\n",
    "Msmin = 1e10 # Minimum stellar mass.\n",
    "Msmax = 1e12 # Maximum stellar mass.\n",
    "\n",
    "sim   = 'TNG100-1' # Name of simulation run.\n",
    "z     = 99  # Snapshot number.\n",
    "myBasePath = '../sims.TNG/' + sim +'/output/'\n",
    "\n",
    "mass_min      = (Mmin / h) * 1e-10 # Minimum total mass\n",
    "mass_max      = (Mmax / h) * 1e-10 # Maximum total mass\n",
    "dm_mass_min   = (Mdmin / h) * 1e-10 # Minimum total dm mass\n",
    "dm_mass_max   = (Mdmax / h) * 1e-10 # Maximum total dm mass\n",
    "gas_mass_min  = (Mgmin / h) * 1e-10 # Minimum total gas mass\n",
    "gas_mass_max  = (Mgmax / h) * 1e-10 # Maximum total gas mass\n",
    "star_mass_min = (Msmin / h) * 1e-10 # Minimum total star mass\n",
    "star_mass_max = (Msmax / h) * 1e-10 # Maximum total star mass\n",
    "\n",
    "\n",
    "subhalos_url = 'http://www.tng-project.org/api/' + sim + '/snapshots/' + str(z) + '/subhalos'\n",
    "url          = subhalos_url\n",
    "subhalos     = get(subhalos_url, {'limit': N, 'offset': o,\n",
    "                                #'mass__gt': mass_min, 'mass__lt': mass_max,                                     \n",
    "                                #'massinhalfrad_dm__gt':dm_mass_min,'massinhalfrad_dm__lt':dm_mass_max, \n",
    "                                #'mass_gas__gt': gas_mass_min, 'mass_gas__lt': gas_mass_max,\n",
    "                                'mass_stars__gt': star_mass_min, #'mass_stars__lt': star_mass_max,\n",
    "                                #'filterFlag': True, 'parent':0, \n",
    "                                #'sfr__gt':0.1,\n",
    "                                'subhaloflag__lt':1})\n",
    "\n",
    "nsubhalos = len(subhalos['results'])"
   ]
  },
  {
   "cell_type": "code",
   "execution_count": 10,
   "metadata": {},
   "outputs": [
    {
     "data": {
      "text/plain": [
       "3893"
      ]
     },
     "execution_count": 10,
     "metadata": {},
     "output_type": "execute_result"
    }
   ],
   "source": [
    "nsubhalos"
   ]
  },
  {
   "cell_type": "markdown",
   "metadata": {},
   "source": [
    "# Analyzing each individual subhalo (ie galaxy)"
   ]
  },
  {
   "cell_type": "code",
   "execution_count": 16,
   "metadata": {},
   "outputs": [],
   "source": [
    "data = h5py.File('../data/gals_properties.h5', 'a')"
   ]
  },
  {
   "cell_type": "code",
   "execution_count": 17,
   "metadata": {},
   "outputs": [
    {
     "data": {
      "text/plain": [
       "[]"
      ]
     },
     "execution_count": 17,
     "metadata": {},
     "output_type": "execute_result"
    }
   ],
   "source": [
    "list(data.keys())"
   ]
  },
  {
   "cell_type": "code",
   "execution_count": 18,
   "metadata": {},
   "outputs": [],
   "source": [
    "try:\n",
    "    flag_MainProps = True\n",
    "    old_MainProps = data['MainProps'][()]\n",
    "except:\n",
    "    flag_MainProps = False"
   ]
  },
  {
   "cell_type": "code",
   "execution_count": 19,
   "metadata": {},
   "outputs": [
    {
     "name": "stderr",
     "output_type": "stream",
     "text": [
      "  0%|                                                                           | 0/3892 [00:00<?, ?it/s]"
     ]
    },
    {
     "name": "stdout",
     "output_type": "stream",
     "text": [
      "Starting the estimation of properties with subhalo particles for galaxy 1\n",
      "Starting the estimation of properties with subhalo particles for galaxy 1\n",
      "Starting the estimation of properties with halo particles for galaxy 1\n"
     ]
    },
    {
     "name": "stderr",
     "output_type": "stream",
     "text": [
      "  0%|                                                              | 1/3892 [07:06<460:47:16, 426.33s/it]"
     ]
    },
    {
     "name": "stdout",
     "output_type": "stream",
     "text": [
      "Starting the estimation of properties with subhalo particles for galaxy 2\n",
      "Starting the estimation of properties with subhalo particles for galaxy 2\n",
      "Starting the estimation of properties with halo particles for galaxy 2\n"
     ]
    },
    {
     "name": "stderr",
     "output_type": "stream",
     "text": [
      "  0%|                                                              | 2/3892 [13:34<436:33:05, 404.01s/it]"
     ]
    },
    {
     "name": "stdout",
     "output_type": "stream",
     "text": [
      "Starting the estimation of properties with subhalo particles for galaxy 3\n",
      "Starting the estimation of properties with subhalo particles for galaxy 3\n",
      "Starting the estimation of properties with halo particles for galaxy 3\n"
     ]
    },
    {
     "name": "stderr",
     "output_type": "stream",
     "text": [
      "  0%|                                                              | 3/3892 [20:09<431:49:03, 399.73s/it]"
     ]
    },
    {
     "name": "stdout",
     "output_type": "stream",
     "text": [
      "Starting the estimation of properties with subhalo particles for galaxy 4\n",
      "Starting the estimation of properties with subhalo particles for galaxy 4\n",
      "Starting the estimation of properties with halo particles for galaxy 4\n"
     ]
    },
    {
     "name": "stderr",
     "output_type": "stream",
     "text": [
      "  0%|                                                              | 4/3892 [26:36<426:25:16, 394.83s/it]"
     ]
    },
    {
     "name": "stdout",
     "output_type": "stream",
     "text": [
      "Starting the estimation of properties with subhalo particles for galaxy 5\n",
      "Starting the estimation of properties with subhalo particles for galaxy 5\n",
      "Starting the estimation of properties with halo particles for galaxy 5\n"
     ]
    },
    {
     "name": "stderr",
     "output_type": "stream",
     "text": [
      "  0%|                                                              | 5/3892 [33:06<424:31:20, 393.18s/it]"
     ]
    },
    {
     "name": "stdout",
     "output_type": "stream",
     "text": [
      "Starting the estimation of properties with subhalo particles for galaxy 6\n",
      "Starting the estimation of properties with subhalo particles for galaxy 6\n",
      "Starting the estimation of properties with halo particles for galaxy 6\n"
     ]
    },
    {
     "name": "stderr",
     "output_type": "stream",
     "text": [
      "  0%|                                                              | 6/3892 [39:57<430:38:27, 398.95s/it]"
     ]
    },
    {
     "name": "stdout",
     "output_type": "stream",
     "text": [
      "Starting the estimation of properties with subhalo particles for galaxy 7\n",
      "Starting the estimation of properties with subhalo particles for galaxy 7\n",
      "Starting the estimation of properties with halo particles for galaxy 7\n"
     ]
    },
    {
     "name": "stderr",
     "output_type": "stream",
     "text": [
      "  0%|                                                              | 7/3892 [46:48<434:54:15, 403.00s/it]"
     ]
    },
    {
     "name": "stdout",
     "output_type": "stream",
     "text": [
      "Starting the estimation of properties with subhalo particles for galaxy 8\n",
      "Starting the estimation of properties with subhalo particles for galaxy 8\n",
      "Starting the estimation of properties with halo particles for galaxy 8\n"
     ]
    },
    {
     "name": "stderr",
     "output_type": "stream",
     "text": [
      "  0%|▏                                                             | 8/3892 [52:58<423:22:13, 392.41s/it]"
     ]
    },
    {
     "name": "stdout",
     "output_type": "stream",
     "text": [
      "Starting the estimation of properties with subhalo particles for galaxy 9\n",
      "Galaxy 9 have no gas\n",
      "Starting the estimation of properties with subhalo particles for galaxy 9\n",
      "Starting the estimation of properties with halo particles for galaxy 9\n"
     ]
    },
    {
     "name": "stderr",
     "output_type": "stream",
     "text": [
      "  0%|▏                                                             | 9/3892 [59:40<426:39:33, 395.56s/it]"
     ]
    },
    {
     "name": "stdout",
     "output_type": "stream",
     "text": [
      "Starting the estimation of properties with subhalo particles for galaxy 10\n",
      "Starting the estimation of properties with subhalo particles for galaxy 10\n",
      "Starting the estimation of properties with halo particles for galaxy 10\n"
     ]
    },
    {
     "name": "stderr",
     "output_type": "stream",
     "text": [
      "  0%|▏                                                          | 10/3892 [1:06:05<422:52:26, 392.16s/it]"
     ]
    },
    {
     "name": "stdout",
     "output_type": "stream",
     "text": [
      "Saving properties-----\n",
      "Starting the estimation of properties with subhalo particles for galaxy 11\n",
      "Galaxy 11 have no gas\n",
      "Starting the estimation of properties with subhalo particles for galaxy 11\n",
      "Starting the estimation of properties with halo particles for galaxy 11\n"
     ]
    },
    {
     "name": "stderr",
     "output_type": "stream",
     "text": [
      "  0%|▏                                                          | 11/3892 [1:12:30<420:27:10, 390.01s/it]"
     ]
    },
    {
     "name": "stdout",
     "output_type": "stream",
     "text": [
      "Starting the estimation of properties with subhalo particles for galaxy 12\n",
      "Galaxy 12 have no gas\n",
      "Starting the estimation of properties with subhalo particles for galaxy 12\n",
      "Starting the estimation of properties with halo particles for galaxy 12\n"
     ]
    },
    {
     "name": "stderr",
     "output_type": "stream",
     "text": [
      "  0%|▏                                                          | 12/3892 [1:18:49<416:53:20, 386.80s/it]"
     ]
    },
    {
     "name": "stdout",
     "output_type": "stream",
     "text": [
      "Starting the estimation of properties with subhalo particles for galaxy 13\n",
      "Galaxy 13 have no gas\n",
      "Starting the estimation of properties with subhalo particles for galaxy 13\n",
      "Starting the estimation of properties with halo particles for galaxy 13\n"
     ]
    },
    {
     "name": "stderr",
     "output_type": "stream",
     "text": [
      "  0%|▏                                                          | 13/3892 [1:25:05<413:14:07, 383.51s/it]"
     ]
    },
    {
     "name": "stdout",
     "output_type": "stream",
     "text": [
      "Starting the estimation of properties with subhalo particles for galaxy 14\n",
      "Galaxy 14 have no gas\n",
      "Starting the estimation of properties with subhalo particles for galaxy 14\n",
      "Starting the estimation of properties with halo particles for galaxy 14\n"
     ]
    },
    {
     "name": "stderr",
     "output_type": "stream",
     "text": [
      "  0%|▏                                                          | 14/3892 [1:31:21<410:27:02, 381.03s/it]"
     ]
    },
    {
     "name": "stdout",
     "output_type": "stream",
     "text": [
      "Starting the estimation of properties with subhalo particles for galaxy 15\n",
      "Starting the estimation of properties with subhalo particles for galaxy 15\n",
      "Starting the estimation of properties with halo particles for galaxy 15\n"
     ]
    },
    {
     "name": "stderr",
     "output_type": "stream",
     "text": [
      "  0%|▏                                                          | 15/3892 [1:37:29<406:19:53, 377.30s/it]"
     ]
    },
    {
     "name": "stdout",
     "output_type": "stream",
     "text": [
      "Starting the estimation of properties with subhalo particles for galaxy 16\n",
      "Starting the estimation of properties with subhalo particles for galaxy 16\n",
      "Starting the estimation of properties with halo particles for galaxy 16\n"
     ]
    },
    {
     "name": "stderr",
     "output_type": "stream",
     "text": [
      "  0%|▏                                                          | 16/3892 [1:44:02<411:12:09, 381.92s/it]"
     ]
    },
    {
     "name": "stdout",
     "output_type": "stream",
     "text": [
      "Starting the estimation of properties with subhalo particles for galaxy 17\n",
      "Starting the estimation of properties with subhalo particles for galaxy 17\n",
      "Starting the estimation of properties with halo particles for galaxy 17\n"
     ]
    },
    {
     "name": "stderr",
     "output_type": "stream",
     "text": [
      "  0%|▎                                                          | 17/3892 [1:50:22<410:30:07, 381.37s/it]"
     ]
    },
    {
     "name": "stdout",
     "output_type": "stream",
     "text": [
      "Starting the estimation of properties with subhalo particles for galaxy 18\n",
      "Starting the estimation of properties with subhalo particles for galaxy 18\n",
      "Starting the estimation of properties with halo particles for galaxy 18\n"
     ]
    },
    {
     "name": "stderr",
     "output_type": "stream",
     "text": [
      "  0%|▎                                                          | 18/3892 [1:56:33<407:04:05, 378.28s/it]"
     ]
    },
    {
     "name": "stdout",
     "output_type": "stream",
     "text": [
      "Starting the estimation of properties with subhalo particles for galaxy 19\n",
      "Galaxy 19 have no gas\n",
      "Starting the estimation of properties with subhalo particles for galaxy 19\n",
      "Starting the estimation of properties with halo particles for galaxy 19\n"
     ]
    },
    {
     "name": "stderr",
     "output_type": "stream",
     "text": [
      "  0%|▎                                                          | 19/3892 [2:03:04<411:04:56, 382.11s/it]"
     ]
    },
    {
     "name": "stdout",
     "output_type": "stream",
     "text": [
      "Starting the estimation of properties with subhalo particles for galaxy 20\n",
      "Starting the estimation of properties with subhalo particles for galaxy 20\n",
      "Starting the estimation of properties with halo particles for galaxy 20\n"
     ]
    },
    {
     "name": "stderr",
     "output_type": "stream",
     "text": [
      "  1%|▎                                                          | 20/3892 [2:09:15<407:29:44, 378.87s/it]"
     ]
    },
    {
     "name": "stdout",
     "output_type": "stream",
     "text": [
      "Saving properties-----\n",
      "Starting the estimation of properties with subhalo particles for galaxy 21\n",
      "Galaxy 21 have no gas\n",
      "Starting the estimation of properties with subhalo particles for galaxy 21\n",
      "Starting the estimation of properties with halo particles for galaxy 21\n"
     ]
    },
    {
     "name": "stderr",
     "output_type": "stream",
     "text": [
      "  1%|▎                                                          | 21/3892 [2:15:44<410:40:04, 381.92s/it]"
     ]
    },
    {
     "name": "stdout",
     "output_type": "stream",
     "text": [
      "Starting the estimation of properties with subhalo particles for galaxy 22\n",
      "Starting the estimation of properties with subhalo particles for galaxy 22\n",
      "Starting the estimation of properties with halo particles for galaxy 22\n"
     ]
    },
    {
     "name": "stderr",
     "output_type": "stream",
     "text": [
      "  1%|▎                                                          | 22/3892 [2:23:13<432:06:51, 401.97s/it]"
     ]
    },
    {
     "name": "stdout",
     "output_type": "stream",
     "text": [
      "Starting the estimation of properties with subhalo particles for galaxy 23\n",
      "Galaxy 23 have no gas\n",
      "Starting the estimation of properties with subhalo particles for galaxy 23\n",
      "Starting the estimation of properties with halo particles for galaxy 23\n"
     ]
    },
    {
     "name": "stderr",
     "output_type": "stream",
     "text": [
      "  1%|▎                                                          | 23/3892 [2:32:44<486:23:26, 452.57s/it]"
     ]
    },
    {
     "name": "stdout",
     "output_type": "stream",
     "text": [
      "Starting the estimation of properties with subhalo particles for galaxy 24\n",
      "Starting the estimation of properties with subhalo particles for galaxy 24\n",
      "Starting the estimation of properties with halo particles for galaxy 24\n"
     ]
    },
    {
     "name": "stderr",
     "output_type": "stream",
     "text": [
      "  1%|▎                                                          | 24/3892 [2:47:20<623:01:54, 579.86s/it]"
     ]
    },
    {
     "name": "stdout",
     "output_type": "stream",
     "text": [
      "Starting the estimation of properties with subhalo particles for galaxy 25\n",
      "Galaxy 25 have no gas\n",
      "Starting the estimation of properties with subhalo particles for galaxy 25\n",
      "Starting the estimation of properties with halo particles for galaxy 25\n"
     ]
    },
    {
     "name": "stderr",
     "output_type": "stream",
     "text": [
      "  1%|▍                                                          | 25/3892 [3:02:06<721:32:09, 671.72s/it]"
     ]
    },
    {
     "name": "stdout",
     "output_type": "stream",
     "text": [
      "Starting the estimation of properties with subhalo particles for galaxy 26\n",
      "Starting the estimation of properties with subhalo particles for galaxy 26\n",
      "Starting the estimation of properties with halo particles for galaxy 26\n"
     ]
    },
    {
     "name": "stderr",
     "output_type": "stream",
     "text": [
      "  1%|▍                                                          | 26/3892 [3:17:22<799:51:24, 744.82s/it]"
     ]
    },
    {
     "name": "stdout",
     "output_type": "stream",
     "text": [
      "Starting the estimation of properties with subhalo particles for galaxy 27\n",
      "Starting the estimation of properties with subhalo particles for galaxy 27\n",
      "Starting the estimation of properties with halo particles for galaxy 27\n"
     ]
    },
    {
     "name": "stderr",
     "output_type": "stream",
     "text": [
      "  1%|▍                                                          | 27/3892 [3:32:08<845:14:50, 787.29s/it]"
     ]
    },
    {
     "name": "stdout",
     "output_type": "stream",
     "text": [
      "Starting the estimation of properties with subhalo particles for galaxy 28\n",
      "Starting the estimation of properties with subhalo particles for galaxy 28\n",
      "Starting the estimation of properties with halo particles for galaxy 28\n"
     ]
    },
    {
     "name": "stderr",
     "output_type": "stream",
     "text": [
      "  1%|▍                                                          | 28/3892 [3:49:53<934:14:24, 870.41s/it]"
     ]
    },
    {
     "name": "stdout",
     "output_type": "stream",
     "text": [
      "Starting the estimation of properties with subhalo particles for galaxy 29\n",
      "Starting the estimation of properties with subhalo particles for galaxy 29\n",
      "Starting the estimation of properties with halo particles for galaxy 29\n"
     ]
    },
    {
     "name": "stderr",
     "output_type": "stream",
     "text": [
      "  1%|▍                                                          | 29/3892 [4:05:50<962:01:10, 896.52s/it]"
     ]
    },
    {
     "name": "stdout",
     "output_type": "stream",
     "text": [
      "Starting the estimation of properties with subhalo particles for galaxy 30\n",
      "Galaxy 30 have no gas\n",
      "Starting the estimation of properties with subhalo particles for galaxy 30\n",
      "Starting the estimation of properties with halo particles for galaxy 30\n",
      "Saving properties-----\n"
     ]
    },
    {
     "name": "stderr",
     "output_type": "stream",
     "text": [
      "  1%|▍                                                          | 30/3892 [4:12:40<805:04:58, 750.47s/it]"
     ]
    },
    {
     "name": "stdout",
     "output_type": "stream",
     "text": [
      "Starting the estimation of properties with subhalo particles for galaxy 31\n",
      "Galaxy 31 have no gas\n",
      "Starting the estimation of properties with subhalo particles for galaxy 31\n",
      "Starting the estimation of properties with halo particles for galaxy 31\n"
     ]
    },
    {
     "name": "stderr",
     "output_type": "stream",
     "text": [
      "  1%|▍                                                          | 31/3892 [4:19:06<687:46:36, 641.28s/it]"
     ]
    },
    {
     "name": "stdout",
     "output_type": "stream",
     "text": [
      "Starting the estimation of properties with subhalo particles for galaxy 32\n",
      "Starting the estimation of properties with subhalo particles for galaxy 32\n",
      "Starting the estimation of properties with halo particles for galaxy 32\n"
     ]
    },
    {
     "name": "stderr",
     "output_type": "stream",
     "text": [
      "  1%|▍                                                          | 32/3892 [4:25:39<607:32:16, 566.62s/it]"
     ]
    },
    {
     "name": "stdout",
     "output_type": "stream",
     "text": [
      "Starting the estimation of properties with subhalo particles for galaxy 33\n",
      "Galaxy 33 have no gas\n",
      "Starting the estimation of properties with subhalo particles for galaxy 33\n",
      "Starting the estimation of properties with halo particles for galaxy 33\n"
     ]
    },
    {
     "name": "stderr",
     "output_type": "stream",
     "text": [
      "  1%|▌                                                          | 33/3892 [4:32:30<557:21:13, 519.95s/it]"
     ]
    },
    {
     "name": "stdout",
     "output_type": "stream",
     "text": [
      "Starting the estimation of properties with subhalo particles for galaxy 34\n",
      "Galaxy 34 have no gas\n",
      "Starting the estimation of properties with subhalo particles for galaxy 34\n",
      "Starting the estimation of properties with halo particles for galaxy 34\n"
     ]
    },
    {
     "name": "stderr",
     "output_type": "stream",
     "text": [
      "  1%|▌                                                          | 34/3892 [4:39:02<516:16:24, 481.75s/it]"
     ]
    },
    {
     "name": "stdout",
     "output_type": "stream",
     "text": [
      "Starting the estimation of properties with subhalo particles for galaxy 35\n",
      "Galaxy 35 have no gas\n",
      "Starting the estimation of properties with subhalo particles for galaxy 35\n",
      "Starting the estimation of properties with halo particles for galaxy 35\n"
     ]
    },
    {
     "name": "stderr",
     "output_type": "stream",
     "text": [
      "  1%|▌                                                          | 35/3892 [4:45:23<483:32:58, 451.33s/it]"
     ]
    },
    {
     "name": "stdout",
     "output_type": "stream",
     "text": [
      "Starting the estimation of properties with subhalo particles for galaxy 36\n",
      "Starting the estimation of properties with subhalo particles for galaxy 36\n",
      "Starting the estimation of properties with halo particles for galaxy 36\n"
     ]
    },
    {
     "name": "stderr",
     "output_type": "stream",
     "text": [
      "  1%|▌                                                          | 36/3892 [4:52:14<470:33:34, 439.32s/it]"
     ]
    },
    {
     "name": "stdout",
     "output_type": "stream",
     "text": [
      "Starting the estimation of properties with subhalo particles for galaxy 38\n",
      "Starting the estimation of properties with subhalo particles for galaxy 38\n",
      "Starting the estimation of properties with halo particles for galaxy 38\n"
     ]
    },
    {
     "name": "stderr",
     "output_type": "stream",
     "text": [
      "  1%|▌                                                          | 37/3892 [4:58:32<450:48:03, 420.98s/it]"
     ]
    },
    {
     "name": "stdout",
     "output_type": "stream",
     "text": [
      "Starting the estimation of properties with subhalo particles for galaxy 39\n",
      "Starting the estimation of properties with subhalo particles for galaxy 39\n",
      "Starting the estimation of properties with halo particles for galaxy 39\n"
     ]
    },
    {
     "name": "stderr",
     "output_type": "stream",
     "text": [
      "  1%|▌                                                          | 38/3892 [5:05:04<441:15:01, 412.17s/it]"
     ]
    },
    {
     "name": "stdout",
     "output_type": "stream",
     "text": [
      "Starting the estimation of properties with subhalo particles for galaxy 40\n",
      "Galaxy 40 have no gas\n",
      "Starting the estimation of properties with subhalo particles for galaxy 40\n",
      "Starting the estimation of properties with halo particles for galaxy 40\n"
     ]
    },
    {
     "name": "stderr",
     "output_type": "stream",
     "text": [
      "  1%|▌                                                          | 39/3892 [5:11:25<431:06:56, 402.81s/it]"
     ]
    },
    {
     "name": "stdout",
     "output_type": "stream",
     "text": [
      "Starting the estimation of properties with subhalo particles for galaxy 41\n",
      "Starting the estimation of properties with subhalo particles for galaxy 41\n",
      "Starting the estimation of properties with halo particles for galaxy 41\n",
      "Saving properties-----\n"
     ]
    },
    {
     "name": "stderr",
     "output_type": "stream",
     "text": [
      "  1%|▌                                                          | 40/3892 [5:17:38<421:30:35, 393.93s/it]"
     ]
    },
    {
     "name": "stdout",
     "output_type": "stream",
     "text": [
      "Starting the estimation of properties with subhalo particles for galaxy 43\n",
      "Starting the estimation of properties with subhalo particles for galaxy 43\n",
      "Starting the estimation of properties with halo particles for galaxy 43\n"
     ]
    },
    {
     "name": "stderr",
     "output_type": "stream",
     "text": [
      "  1%|▌                                                          | 41/3892 [5:24:02<418:12:42, 390.95s/it]"
     ]
    },
    {
     "name": "stdout",
     "output_type": "stream",
     "text": [
      "Starting the estimation of properties with subhalo particles for galaxy 44\n",
      "Galaxy 44 have no gas\n",
      "Starting the estimation of properties with subhalo particles for galaxy 44\n",
      "Starting the estimation of properties with halo particles for galaxy 44\n"
     ]
    },
    {
     "name": "stderr",
     "output_type": "stream",
     "text": [
      "  1%|▋                                                          | 42/3892 [5:29:58<406:47:00, 380.37s/it]"
     ]
    },
    {
     "name": "stdout",
     "output_type": "stream",
     "text": [
      "Starting the estimation of properties with subhalo particles for galaxy 45\n",
      "Galaxy 45 have no gas\n",
      "Starting the estimation of properties with subhalo particles for galaxy 45\n",
      "Starting the estimation of properties with halo particles for galaxy 45\n"
     ]
    },
    {
     "name": "stderr",
     "output_type": "stream",
     "text": [
      "  1%|▋                                                          | 43/3892 [5:36:03<401:53:12, 375.89s/it]"
     ]
    },
    {
     "name": "stdout",
     "output_type": "stream",
     "text": [
      "Starting the estimation of properties with subhalo particles for galaxy 46\n",
      "Galaxy 46 have no gas\n",
      "Starting the estimation of properties with subhalo particles for galaxy 46\n",
      "Starting the estimation of properties with halo particles for galaxy 46\n"
     ]
    },
    {
     "name": "stderr",
     "output_type": "stream",
     "text": [
      "  1%|▋                                                          | 44/3892 [5:42:10<398:52:25, 373.17s/it]"
     ]
    },
    {
     "name": "stdout",
     "output_type": "stream",
     "text": [
      "Starting the estimation of properties with subhalo particles for galaxy 47\n",
      "Galaxy 47 have no gas\n",
      "Starting the estimation of properties with subhalo particles for galaxy 47\n",
      "Starting the estimation of properties with halo particles for galaxy 47\n"
     ]
    },
    {
     "name": "stderr",
     "output_type": "stream",
     "text": [
      "  1%|▋                                                          | 45/3892 [5:48:56<409:14:29, 382.97s/it]"
     ]
    },
    {
     "name": "stdout",
     "output_type": "stream",
     "text": [
      "Starting the estimation of properties with subhalo particles for galaxy 49\n",
      "Galaxy 49 have no gas\n",
      "Starting the estimation of properties with subhalo particles for galaxy 49\n",
      "Starting the estimation of properties with halo particles for galaxy 49\n"
     ]
    },
    {
     "name": "stderr",
     "output_type": "stream",
     "text": [
      "  1%|▋                                                          | 46/3892 [5:55:25<411:05:49, 384.80s/it]"
     ]
    },
    {
     "name": "stdout",
     "output_type": "stream",
     "text": [
      "Starting the estimation of properties with subhalo particles for galaxy 50\n",
      "Starting the estimation of properties with subhalo particles for galaxy 50\n",
      "Starting the estimation of properties with halo particles for galaxy 50\n"
     ]
    },
    {
     "name": "stderr",
     "output_type": "stream",
     "text": [
      "  1%|▋                                                          | 47/3892 [6:01:39<407:33:23, 381.59s/it]"
     ]
    },
    {
     "name": "stdout",
     "output_type": "stream",
     "text": [
      "Starting the estimation of properties with subhalo particles for galaxy 52\n",
      "Starting the estimation of properties with subhalo particles for galaxy 52\n",
      "Starting the estimation of properties with halo particles for galaxy 52\n"
     ]
    },
    {
     "name": "stderr",
     "output_type": "stream",
     "text": [
      "  1%|▋                                                          | 48/3892 [6:08:08<410:01:16, 383.99s/it]"
     ]
    },
    {
     "name": "stdout",
     "output_type": "stream",
     "text": [
      "Starting the estimation of properties with subhalo particles for galaxy 53\n",
      "Galaxy 53 have no gas\n",
      "Starting the estimation of properties with subhalo particles for galaxy 53\n",
      "Starting the estimation of properties with halo particles for galaxy 53\n"
     ]
    },
    {
     "name": "stderr",
     "output_type": "stream",
     "text": [
      "  1%|▋                                                          | 49/3892 [6:14:51<415:48:41, 389.52s/it]"
     ]
    },
    {
     "name": "stdout",
     "output_type": "stream",
     "text": [
      "Starting the estimation of properties with subhalo particles for galaxy 55\n",
      "Galaxy 55 have no gas\n",
      "Starting the estimation of properties with subhalo particles for galaxy 55\n",
      "Starting the estimation of properties with halo particles for galaxy 55\n"
     ]
    },
    {
     "name": "stderr",
     "output_type": "stream",
     "text": [
      "  1%|▊                                                          | 50/3892 [6:21:48<424:38:01, 397.89s/it]"
     ]
    },
    {
     "name": "stdout",
     "output_type": "stream",
     "text": [
      "Saving properties-----\n",
      "Starting the estimation of properties with subhalo particles for galaxy 57\n",
      "Galaxy 57 have no gas\n",
      "Starting the estimation of properties with subhalo particles for galaxy 57\n",
      "Starting the estimation of properties with halo particles for galaxy 57\n"
     ]
    },
    {
     "name": "stderr",
     "output_type": "stream",
     "text": [
      "  1%|▊                                                          | 51/3892 [6:28:16<421:07:18, 394.70s/it]"
     ]
    },
    {
     "name": "stdout",
     "output_type": "stream",
     "text": [
      "Starting the estimation of properties with subhalo particles for galaxy 58\n",
      "Galaxy 58 have no gas\n",
      "Starting the estimation of properties with subhalo particles for galaxy 58\n",
      "Starting the estimation of properties with halo particles for galaxy 58\n"
     ]
    },
    {
     "name": "stderr",
     "output_type": "stream",
     "text": [
      "  1%|▊                                                          | 52/3892 [6:34:56<422:54:15, 396.47s/it]"
     ]
    },
    {
     "name": "stdout",
     "output_type": "stream",
     "text": [
      "Starting the estimation of properties with subhalo particles for galaxy 59\n",
      "Galaxy 59 have no gas\n",
      "Starting the estimation of properties with subhalo particles for galaxy 59\n",
      "Starting the estimation of properties with halo particles for galaxy 59\n"
     ]
    },
    {
     "name": "stderr",
     "output_type": "stream",
     "text": [
      "  1%|▊                                                          | 53/3892 [6:41:35<423:26:39, 397.08s/it]"
     ]
    },
    {
     "name": "stdout",
     "output_type": "stream",
     "text": [
      "Starting the estimation of properties with subhalo particles for galaxy 60\n",
      "Galaxy 60 have no gas\n",
      "Starting the estimation of properties with subhalo particles for galaxy 60\n",
      "Starting the estimation of properties with halo particles for galaxy 60\n"
     ]
    },
    {
     "name": "stderr",
     "output_type": "stream",
     "text": [
      "  1%|▊                                                          | 54/3892 [6:48:06<421:31:40, 395.39s/it]"
     ]
    },
    {
     "name": "stdout",
     "output_type": "stream",
     "text": [
      "Starting the estimation of properties with subhalo particles for galaxy 63\n",
      "Galaxy 63 have no gas\n",
      "Starting the estimation of properties with subhalo particles for galaxy 63\n",
      "Starting the estimation of properties with halo particles for galaxy 63\n"
     ]
    },
    {
     "name": "stderr",
     "output_type": "stream",
     "text": [
      "  1%|▊                                                          | 55/3892 [6:54:46<422:58:37, 396.85s/it]"
     ]
    },
    {
     "name": "stdout",
     "output_type": "stream",
     "text": [
      "Starting the estimation of properties with subhalo particles for galaxy 66\n",
      "Galaxy 66 have no gas\n",
      "Starting the estimation of properties with subhalo particles for galaxy 66\n",
      "Starting the estimation of properties with halo particles for galaxy 66\n"
     ]
    },
    {
     "name": "stderr",
     "output_type": "stream",
     "text": [
      "  1%|▊                                                          | 56/3892 [7:01:42<428:48:16, 402.42s/it]"
     ]
    },
    {
     "name": "stdout",
     "output_type": "stream",
     "text": [
      "Starting the estimation of properties with subhalo particles for galaxy 67\n",
      "Galaxy 67 have no gas\n",
      "Starting the estimation of properties with subhalo particles for galaxy 67\n",
      "Starting the estimation of properties with halo particles for galaxy 67\n"
     ]
    },
    {
     "name": "stderr",
     "output_type": "stream",
     "text": [
      "  1%|▊                                                          | 57/3892 [7:08:18<426:49:55, 400.68s/it]"
     ]
    },
    {
     "name": "stdout",
     "output_type": "stream",
     "text": [
      "Starting the estimation of properties with subhalo particles for galaxy 68\n",
      "Galaxy 68 have no gas\n",
      "Starting the estimation of properties with subhalo particles for galaxy 68\n",
      "Starting the estimation of properties with halo particles for galaxy 68\n"
     ]
    },
    {
     "name": "stderr",
     "output_type": "stream",
     "text": [
      "  1%|▉                                                          | 58/3892 [7:15:03<427:56:36, 401.82s/it]"
     ]
    },
    {
     "name": "stdout",
     "output_type": "stream",
     "text": [
      "Starting the estimation of properties with subhalo particles for galaxy 72\n",
      "Starting the estimation of properties with subhalo particles for galaxy 72\n",
      "Starting the estimation of properties with halo particles for galaxy 72\n"
     ]
    },
    {
     "name": "stderr",
     "output_type": "stream",
     "text": [
      "  2%|▉                                                          | 59/3892 [7:21:46<428:10:30, 402.15s/it]"
     ]
    },
    {
     "name": "stdout",
     "output_type": "stream",
     "text": [
      "Starting the estimation of properties with subhalo particles for galaxy 74\n",
      "Galaxy 74 have no gas\n",
      "Starting the estimation of properties with subhalo particles for galaxy 74\n",
      "Starting the estimation of properties with halo particles for galaxy 74\n"
     ]
    },
    {
     "name": "stderr",
     "output_type": "stream",
     "text": [
      "  2%|▉                                                          | 59/3892 [7:25:17<482:08:22, 452.83s/it]\n"
     ]
    },
    {
     "ename": "SSLError",
     "evalue": "HTTPSConnectionPool(host='data-eu.tng-project.org', port=443): Max retries exceeded with url: /cutout/halo/L75n1820TNG/99/0/0.0.0.0.516.0/?token=76e1cfeb25824a31ecc3 (Caused by SSLError(SSLEOFError(8, 'EOF occurred in violation of protocol (_ssl.c:1131)')))",
     "output_type": "error",
     "traceback": [
      "\u001b[0;31m---------------------------------------------------------------------------\u001b[0m",
      "\u001b[0;31mSSLEOFError\u001b[0m                               Traceback (most recent call last)",
      "File \u001b[0;32m~/.virtualenvs/ml4dm/lib/python3.8/site-packages/urllib3/connectionpool.py:703\u001b[0m, in \u001b[0;36mHTTPConnectionPool.urlopen\u001b[0;34m(self, method, url, body, headers, retries, redirect, assert_same_host, timeout, pool_timeout, release_conn, chunked, body_pos, **response_kw)\u001b[0m\n\u001b[1;32m    702\u001b[0m \u001b[38;5;66;03m# Make the request on the httplib connection object.\u001b[39;00m\n\u001b[0;32m--> 703\u001b[0m httplib_response \u001b[38;5;241m=\u001b[39m \u001b[38;5;28;43mself\u001b[39;49m\u001b[38;5;241;43m.\u001b[39;49m\u001b[43m_make_request\u001b[49m\u001b[43m(\u001b[49m\n\u001b[1;32m    704\u001b[0m \u001b[43m    \u001b[49m\u001b[43mconn\u001b[49m\u001b[43m,\u001b[49m\n\u001b[1;32m    705\u001b[0m \u001b[43m    \u001b[49m\u001b[43mmethod\u001b[49m\u001b[43m,\u001b[49m\n\u001b[1;32m    706\u001b[0m \u001b[43m    \u001b[49m\u001b[43murl\u001b[49m\u001b[43m,\u001b[49m\n\u001b[1;32m    707\u001b[0m \u001b[43m    \u001b[49m\u001b[43mtimeout\u001b[49m\u001b[38;5;241;43m=\u001b[39;49m\u001b[43mtimeout_obj\u001b[49m\u001b[43m,\u001b[49m\n\u001b[1;32m    708\u001b[0m \u001b[43m    \u001b[49m\u001b[43mbody\u001b[49m\u001b[38;5;241;43m=\u001b[39;49m\u001b[43mbody\u001b[49m\u001b[43m,\u001b[49m\n\u001b[1;32m    709\u001b[0m \u001b[43m    \u001b[49m\u001b[43mheaders\u001b[49m\u001b[38;5;241;43m=\u001b[39;49m\u001b[43mheaders\u001b[49m\u001b[43m,\u001b[49m\n\u001b[1;32m    710\u001b[0m \u001b[43m    \u001b[49m\u001b[43mchunked\u001b[49m\u001b[38;5;241;43m=\u001b[39;49m\u001b[43mchunked\u001b[49m\u001b[43m,\u001b[49m\n\u001b[1;32m    711\u001b[0m \u001b[43m\u001b[49m\u001b[43m)\u001b[49m\n\u001b[1;32m    713\u001b[0m \u001b[38;5;66;03m# If we're going to release the connection in ``finally:``, then\u001b[39;00m\n\u001b[1;32m    714\u001b[0m \u001b[38;5;66;03m# the response doesn't need to know about the connection. Otherwise\u001b[39;00m\n\u001b[1;32m    715\u001b[0m \u001b[38;5;66;03m# it will also try to release it and we'll have a double-release\u001b[39;00m\n\u001b[1;32m    716\u001b[0m \u001b[38;5;66;03m# mess.\u001b[39;00m\n",
      "File \u001b[0;32m~/.virtualenvs/ml4dm/lib/python3.8/site-packages/urllib3/connectionpool.py:386\u001b[0m, in \u001b[0;36mHTTPConnectionPool._make_request\u001b[0;34m(self, conn, method, url, timeout, chunked, **httplib_request_kw)\u001b[0m\n\u001b[1;32m    385\u001b[0m \u001b[38;5;28;01mtry\u001b[39;00m:\n\u001b[0;32m--> 386\u001b[0m     \u001b[38;5;28;43mself\u001b[39;49m\u001b[38;5;241;43m.\u001b[39;49m\u001b[43m_validate_conn\u001b[49m\u001b[43m(\u001b[49m\u001b[43mconn\u001b[49m\u001b[43m)\u001b[49m\n\u001b[1;32m    387\u001b[0m \u001b[38;5;28;01mexcept\u001b[39;00m (SocketTimeout, BaseSSLError) \u001b[38;5;28;01mas\u001b[39;00m e:\n\u001b[1;32m    388\u001b[0m     \u001b[38;5;66;03m# Py2 raises this as a BaseSSLError, Py3 raises it as socket timeout.\u001b[39;00m\n",
      "File \u001b[0;32m~/.virtualenvs/ml4dm/lib/python3.8/site-packages/urllib3/connectionpool.py:1040\u001b[0m, in \u001b[0;36mHTTPSConnectionPool._validate_conn\u001b[0;34m(self, conn)\u001b[0m\n\u001b[1;32m   1039\u001b[0m \u001b[38;5;28;01mif\u001b[39;00m \u001b[38;5;129;01mnot\u001b[39;00m \u001b[38;5;28mgetattr\u001b[39m(conn, \u001b[38;5;124m\"\u001b[39m\u001b[38;5;124msock\u001b[39m\u001b[38;5;124m\"\u001b[39m, \u001b[38;5;28;01mNone\u001b[39;00m):  \u001b[38;5;66;03m# AppEngine might not have  `.sock`\u001b[39;00m\n\u001b[0;32m-> 1040\u001b[0m     \u001b[43mconn\u001b[49m\u001b[38;5;241;43m.\u001b[39;49m\u001b[43mconnect\u001b[49m\u001b[43m(\u001b[49m\u001b[43m)\u001b[49m\n\u001b[1;32m   1042\u001b[0m \u001b[38;5;28;01mif\u001b[39;00m \u001b[38;5;129;01mnot\u001b[39;00m conn\u001b[38;5;241m.\u001b[39mis_verified:\n",
      "File \u001b[0;32m~/.virtualenvs/ml4dm/lib/python3.8/site-packages/urllib3/connection.py:414\u001b[0m, in \u001b[0;36mHTTPSConnection.connect\u001b[0;34m(self)\u001b[0m\n\u001b[1;32m    412\u001b[0m     context\u001b[38;5;241m.\u001b[39mload_default_certs()\n\u001b[0;32m--> 414\u001b[0m \u001b[38;5;28mself\u001b[39m\u001b[38;5;241m.\u001b[39msock \u001b[38;5;241m=\u001b[39m \u001b[43mssl_wrap_socket\u001b[49m\u001b[43m(\u001b[49m\n\u001b[1;32m    415\u001b[0m \u001b[43m    \u001b[49m\u001b[43msock\u001b[49m\u001b[38;5;241;43m=\u001b[39;49m\u001b[43mconn\u001b[49m\u001b[43m,\u001b[49m\n\u001b[1;32m    416\u001b[0m \u001b[43m    \u001b[49m\u001b[43mkeyfile\u001b[49m\u001b[38;5;241;43m=\u001b[39;49m\u001b[38;5;28;43mself\u001b[39;49m\u001b[38;5;241;43m.\u001b[39;49m\u001b[43mkey_file\u001b[49m\u001b[43m,\u001b[49m\n\u001b[1;32m    417\u001b[0m \u001b[43m    \u001b[49m\u001b[43mcertfile\u001b[49m\u001b[38;5;241;43m=\u001b[39;49m\u001b[38;5;28;43mself\u001b[39;49m\u001b[38;5;241;43m.\u001b[39;49m\u001b[43mcert_file\u001b[49m\u001b[43m,\u001b[49m\n\u001b[1;32m    418\u001b[0m \u001b[43m    \u001b[49m\u001b[43mkey_password\u001b[49m\u001b[38;5;241;43m=\u001b[39;49m\u001b[38;5;28;43mself\u001b[39;49m\u001b[38;5;241;43m.\u001b[39;49m\u001b[43mkey_password\u001b[49m\u001b[43m,\u001b[49m\n\u001b[1;32m    419\u001b[0m \u001b[43m    \u001b[49m\u001b[43mca_certs\u001b[49m\u001b[38;5;241;43m=\u001b[39;49m\u001b[38;5;28;43mself\u001b[39;49m\u001b[38;5;241;43m.\u001b[39;49m\u001b[43mca_certs\u001b[49m\u001b[43m,\u001b[49m\n\u001b[1;32m    420\u001b[0m \u001b[43m    \u001b[49m\u001b[43mca_cert_dir\u001b[49m\u001b[38;5;241;43m=\u001b[39;49m\u001b[38;5;28;43mself\u001b[39;49m\u001b[38;5;241;43m.\u001b[39;49m\u001b[43mca_cert_dir\u001b[49m\u001b[43m,\u001b[49m\n\u001b[1;32m    421\u001b[0m \u001b[43m    \u001b[49m\u001b[43mca_cert_data\u001b[49m\u001b[38;5;241;43m=\u001b[39;49m\u001b[38;5;28;43mself\u001b[39;49m\u001b[38;5;241;43m.\u001b[39;49m\u001b[43mca_cert_data\u001b[49m\u001b[43m,\u001b[49m\n\u001b[1;32m    422\u001b[0m \u001b[43m    \u001b[49m\u001b[43mserver_hostname\u001b[49m\u001b[38;5;241;43m=\u001b[39;49m\u001b[43mserver_hostname\u001b[49m\u001b[43m,\u001b[49m\n\u001b[1;32m    423\u001b[0m \u001b[43m    \u001b[49m\u001b[43mssl_context\u001b[49m\u001b[38;5;241;43m=\u001b[39;49m\u001b[43mcontext\u001b[49m\u001b[43m,\u001b[49m\n\u001b[1;32m    424\u001b[0m \u001b[43m    \u001b[49m\u001b[43mtls_in_tls\u001b[49m\u001b[38;5;241;43m=\u001b[39;49m\u001b[43mtls_in_tls\u001b[49m\u001b[43m,\u001b[49m\n\u001b[1;32m    425\u001b[0m \u001b[43m\u001b[49m\u001b[43m)\u001b[49m\n\u001b[1;32m    427\u001b[0m \u001b[38;5;66;03m# If we're using all defaults and the connection\u001b[39;00m\n\u001b[1;32m    428\u001b[0m \u001b[38;5;66;03m# is TLSv1 or TLSv1.1 we throw a DeprecationWarning\u001b[39;00m\n\u001b[1;32m    429\u001b[0m \u001b[38;5;66;03m# for the host.\u001b[39;00m\n",
      "File \u001b[0;32m~/.virtualenvs/ml4dm/lib/python3.8/site-packages/urllib3/util/ssl_.py:449\u001b[0m, in \u001b[0;36mssl_wrap_socket\u001b[0;34m(sock, keyfile, certfile, cert_reqs, ca_certs, server_hostname, ssl_version, ciphers, ssl_context, ca_cert_dir, key_password, ca_cert_data, tls_in_tls)\u001b[0m\n\u001b[1;32m    448\u001b[0m \u001b[38;5;28;01mif\u001b[39;00m send_sni:\n\u001b[0;32m--> 449\u001b[0m     ssl_sock \u001b[38;5;241m=\u001b[39m \u001b[43m_ssl_wrap_socket_impl\u001b[49m\u001b[43m(\u001b[49m\n\u001b[1;32m    450\u001b[0m \u001b[43m        \u001b[49m\u001b[43msock\u001b[49m\u001b[43m,\u001b[49m\u001b[43m \u001b[49m\u001b[43mcontext\u001b[49m\u001b[43m,\u001b[49m\u001b[43m \u001b[49m\u001b[43mtls_in_tls\u001b[49m\u001b[43m,\u001b[49m\u001b[43m \u001b[49m\u001b[43mserver_hostname\u001b[49m\u001b[38;5;241;43m=\u001b[39;49m\u001b[43mserver_hostname\u001b[49m\n\u001b[1;32m    451\u001b[0m \u001b[43m    \u001b[49m\u001b[43m)\u001b[49m\n\u001b[1;32m    452\u001b[0m \u001b[38;5;28;01melse\u001b[39;00m:\n",
      "File \u001b[0;32m~/.virtualenvs/ml4dm/lib/python3.8/site-packages/urllib3/util/ssl_.py:493\u001b[0m, in \u001b[0;36m_ssl_wrap_socket_impl\u001b[0;34m(sock, ssl_context, tls_in_tls, server_hostname)\u001b[0m\n\u001b[1;32m    492\u001b[0m \u001b[38;5;28;01mif\u001b[39;00m server_hostname:\n\u001b[0;32m--> 493\u001b[0m     \u001b[38;5;28;01mreturn\u001b[39;00m \u001b[43mssl_context\u001b[49m\u001b[38;5;241;43m.\u001b[39;49m\u001b[43mwrap_socket\u001b[49m\u001b[43m(\u001b[49m\u001b[43msock\u001b[49m\u001b[43m,\u001b[49m\u001b[43m \u001b[49m\u001b[43mserver_hostname\u001b[49m\u001b[38;5;241;43m=\u001b[39;49m\u001b[43mserver_hostname\u001b[49m\u001b[43m)\u001b[49m\n\u001b[1;32m    494\u001b[0m \u001b[38;5;28;01melse\u001b[39;00m:\n",
      "File \u001b[0;32m/usr/lib/python3.8/ssl.py:500\u001b[0m, in \u001b[0;36mSSLContext.wrap_socket\u001b[0;34m(self, sock, server_side, do_handshake_on_connect, suppress_ragged_eofs, server_hostname, session)\u001b[0m\n\u001b[1;32m    494\u001b[0m \u001b[38;5;28;01mdef\u001b[39;00m \u001b[38;5;21mwrap_socket\u001b[39m(\u001b[38;5;28mself\u001b[39m, sock, server_side\u001b[38;5;241m=\u001b[39m\u001b[38;5;28;01mFalse\u001b[39;00m,\n\u001b[1;32m    495\u001b[0m                 do_handshake_on_connect\u001b[38;5;241m=\u001b[39m\u001b[38;5;28;01mTrue\u001b[39;00m,\n\u001b[1;32m    496\u001b[0m                 suppress_ragged_eofs\u001b[38;5;241m=\u001b[39m\u001b[38;5;28;01mTrue\u001b[39;00m,\n\u001b[1;32m    497\u001b[0m                 server_hostname\u001b[38;5;241m=\u001b[39m\u001b[38;5;28;01mNone\u001b[39;00m, session\u001b[38;5;241m=\u001b[39m\u001b[38;5;28;01mNone\u001b[39;00m):\n\u001b[1;32m    498\u001b[0m     \u001b[38;5;66;03m# SSLSocket class handles server_hostname encoding before it calls\u001b[39;00m\n\u001b[1;32m    499\u001b[0m     \u001b[38;5;66;03m# ctx._wrap_socket()\u001b[39;00m\n\u001b[0;32m--> 500\u001b[0m     \u001b[38;5;28;01mreturn\u001b[39;00m \u001b[38;5;28;43mself\u001b[39;49m\u001b[38;5;241;43m.\u001b[39;49m\u001b[43msslsocket_class\u001b[49m\u001b[38;5;241;43m.\u001b[39;49m\u001b[43m_create\u001b[49m\u001b[43m(\u001b[49m\n\u001b[1;32m    501\u001b[0m \u001b[43m        \u001b[49m\u001b[43msock\u001b[49m\u001b[38;5;241;43m=\u001b[39;49m\u001b[43msock\u001b[49m\u001b[43m,\u001b[49m\n\u001b[1;32m    502\u001b[0m \u001b[43m        \u001b[49m\u001b[43mserver_side\u001b[49m\u001b[38;5;241;43m=\u001b[39;49m\u001b[43mserver_side\u001b[49m\u001b[43m,\u001b[49m\n\u001b[1;32m    503\u001b[0m \u001b[43m        \u001b[49m\u001b[43mdo_handshake_on_connect\u001b[49m\u001b[38;5;241;43m=\u001b[39;49m\u001b[43mdo_handshake_on_connect\u001b[49m\u001b[43m,\u001b[49m\n\u001b[1;32m    504\u001b[0m \u001b[43m        \u001b[49m\u001b[43msuppress_ragged_eofs\u001b[49m\u001b[38;5;241;43m=\u001b[39;49m\u001b[43msuppress_ragged_eofs\u001b[49m\u001b[43m,\u001b[49m\n\u001b[1;32m    505\u001b[0m \u001b[43m        \u001b[49m\u001b[43mserver_hostname\u001b[49m\u001b[38;5;241;43m=\u001b[39;49m\u001b[43mserver_hostname\u001b[49m\u001b[43m,\u001b[49m\n\u001b[1;32m    506\u001b[0m \u001b[43m        \u001b[49m\u001b[43mcontext\u001b[49m\u001b[38;5;241;43m=\u001b[39;49m\u001b[38;5;28;43mself\u001b[39;49m\u001b[43m,\u001b[49m\n\u001b[1;32m    507\u001b[0m \u001b[43m        \u001b[49m\u001b[43msession\u001b[49m\u001b[38;5;241;43m=\u001b[39;49m\u001b[43msession\u001b[49m\n\u001b[1;32m    508\u001b[0m \u001b[43m    \u001b[49m\u001b[43m)\u001b[49m\n",
      "File \u001b[0;32m/usr/lib/python3.8/ssl.py:1040\u001b[0m, in \u001b[0;36mSSLSocket._create\u001b[0;34m(cls, sock, server_side, do_handshake_on_connect, suppress_ragged_eofs, server_hostname, context, session)\u001b[0m\n\u001b[1;32m   1039\u001b[0m             \u001b[38;5;28;01mraise\u001b[39;00m \u001b[38;5;167;01mValueError\u001b[39;00m(\u001b[38;5;124m\"\u001b[39m\u001b[38;5;124mdo_handshake_on_connect should not be specified for non-blocking sockets\u001b[39m\u001b[38;5;124m\"\u001b[39m)\n\u001b[0;32m-> 1040\u001b[0m         \u001b[38;5;28;43mself\u001b[39;49m\u001b[38;5;241;43m.\u001b[39;49m\u001b[43mdo_handshake\u001b[49m\u001b[43m(\u001b[49m\u001b[43m)\u001b[49m\n\u001b[1;32m   1041\u001b[0m \u001b[38;5;28;01mexcept\u001b[39;00m (\u001b[38;5;167;01mOSError\u001b[39;00m, \u001b[38;5;167;01mValueError\u001b[39;00m):\n",
      "File \u001b[0;32m/usr/lib/python3.8/ssl.py:1309\u001b[0m, in \u001b[0;36mSSLSocket.do_handshake\u001b[0;34m(self, block)\u001b[0m\n\u001b[1;32m   1308\u001b[0m         \u001b[38;5;28mself\u001b[39m\u001b[38;5;241m.\u001b[39msettimeout(\u001b[38;5;28;01mNone\u001b[39;00m)\n\u001b[0;32m-> 1309\u001b[0m     \u001b[38;5;28;43mself\u001b[39;49m\u001b[38;5;241;43m.\u001b[39;49m\u001b[43m_sslobj\u001b[49m\u001b[38;5;241;43m.\u001b[39;49m\u001b[43mdo_handshake\u001b[49m\u001b[43m(\u001b[49m\u001b[43m)\u001b[49m\n\u001b[1;32m   1310\u001b[0m \u001b[38;5;28;01mfinally\u001b[39;00m:\n",
      "\u001b[0;31mSSLEOFError\u001b[0m: EOF occurred in violation of protocol (_ssl.c:1131)",
      "\nDuring handling of the above exception, another exception occurred:\n",
      "\u001b[0;31mMaxRetryError\u001b[0m                             Traceback (most recent call last)",
      "File \u001b[0;32m~/.virtualenvs/ml4dm/lib/python3.8/site-packages/requests/adapters.py:440\u001b[0m, in \u001b[0;36mHTTPAdapter.send\u001b[0;34m(self, request, stream, timeout, verify, cert, proxies)\u001b[0m\n\u001b[1;32m    439\u001b[0m \u001b[38;5;28;01mif\u001b[39;00m \u001b[38;5;129;01mnot\u001b[39;00m chunked:\n\u001b[0;32m--> 440\u001b[0m     resp \u001b[38;5;241m=\u001b[39m \u001b[43mconn\u001b[49m\u001b[38;5;241;43m.\u001b[39;49m\u001b[43murlopen\u001b[49m\u001b[43m(\u001b[49m\n\u001b[1;32m    441\u001b[0m \u001b[43m        \u001b[49m\u001b[43mmethod\u001b[49m\u001b[38;5;241;43m=\u001b[39;49m\u001b[43mrequest\u001b[49m\u001b[38;5;241;43m.\u001b[39;49m\u001b[43mmethod\u001b[49m\u001b[43m,\u001b[49m\n\u001b[1;32m    442\u001b[0m \u001b[43m        \u001b[49m\u001b[43murl\u001b[49m\u001b[38;5;241;43m=\u001b[39;49m\u001b[43murl\u001b[49m\u001b[43m,\u001b[49m\n\u001b[1;32m    443\u001b[0m \u001b[43m        \u001b[49m\u001b[43mbody\u001b[49m\u001b[38;5;241;43m=\u001b[39;49m\u001b[43mrequest\u001b[49m\u001b[38;5;241;43m.\u001b[39;49m\u001b[43mbody\u001b[49m\u001b[43m,\u001b[49m\n\u001b[1;32m    444\u001b[0m \u001b[43m        \u001b[49m\u001b[43mheaders\u001b[49m\u001b[38;5;241;43m=\u001b[39;49m\u001b[43mrequest\u001b[49m\u001b[38;5;241;43m.\u001b[39;49m\u001b[43mheaders\u001b[49m\u001b[43m,\u001b[49m\n\u001b[1;32m    445\u001b[0m \u001b[43m        \u001b[49m\u001b[43mredirect\u001b[49m\u001b[38;5;241;43m=\u001b[39;49m\u001b[38;5;28;43;01mFalse\u001b[39;49;00m\u001b[43m,\u001b[49m\n\u001b[1;32m    446\u001b[0m \u001b[43m        \u001b[49m\u001b[43massert_same_host\u001b[49m\u001b[38;5;241;43m=\u001b[39;49m\u001b[38;5;28;43;01mFalse\u001b[39;49;00m\u001b[43m,\u001b[49m\n\u001b[1;32m    447\u001b[0m \u001b[43m        \u001b[49m\u001b[43mpreload_content\u001b[49m\u001b[38;5;241;43m=\u001b[39;49m\u001b[38;5;28;43;01mFalse\u001b[39;49;00m\u001b[43m,\u001b[49m\n\u001b[1;32m    448\u001b[0m \u001b[43m        \u001b[49m\u001b[43mdecode_content\u001b[49m\u001b[38;5;241;43m=\u001b[39;49m\u001b[38;5;28;43;01mFalse\u001b[39;49;00m\u001b[43m,\u001b[49m\n\u001b[1;32m    449\u001b[0m \u001b[43m        \u001b[49m\u001b[43mretries\u001b[49m\u001b[38;5;241;43m=\u001b[39;49m\u001b[38;5;28;43mself\u001b[39;49m\u001b[38;5;241;43m.\u001b[39;49m\u001b[43mmax_retries\u001b[49m\u001b[43m,\u001b[49m\n\u001b[1;32m    450\u001b[0m \u001b[43m        \u001b[49m\u001b[43mtimeout\u001b[49m\u001b[38;5;241;43m=\u001b[39;49m\u001b[43mtimeout\u001b[49m\n\u001b[1;32m    451\u001b[0m \u001b[43m    \u001b[49m\u001b[43m)\u001b[49m\n\u001b[1;32m    453\u001b[0m \u001b[38;5;66;03m# Send the request.\u001b[39;00m\n\u001b[1;32m    454\u001b[0m \u001b[38;5;28;01melse\u001b[39;00m:\n",
      "File \u001b[0;32m~/.virtualenvs/ml4dm/lib/python3.8/site-packages/urllib3/connectionpool.py:785\u001b[0m, in \u001b[0;36mHTTPConnectionPool.urlopen\u001b[0;34m(self, method, url, body, headers, retries, redirect, assert_same_host, timeout, pool_timeout, release_conn, chunked, body_pos, **response_kw)\u001b[0m\n\u001b[1;32m    783\u001b[0m     e \u001b[38;5;241m=\u001b[39m ProtocolError(\u001b[38;5;124m\"\u001b[39m\u001b[38;5;124mConnection aborted.\u001b[39m\u001b[38;5;124m\"\u001b[39m, e)\n\u001b[0;32m--> 785\u001b[0m retries \u001b[38;5;241m=\u001b[39m \u001b[43mretries\u001b[49m\u001b[38;5;241;43m.\u001b[39;49m\u001b[43mincrement\u001b[49m\u001b[43m(\u001b[49m\n\u001b[1;32m    786\u001b[0m \u001b[43m    \u001b[49m\u001b[43mmethod\u001b[49m\u001b[43m,\u001b[49m\u001b[43m \u001b[49m\u001b[43murl\u001b[49m\u001b[43m,\u001b[49m\u001b[43m \u001b[49m\u001b[43merror\u001b[49m\u001b[38;5;241;43m=\u001b[39;49m\u001b[43me\u001b[49m\u001b[43m,\u001b[49m\u001b[43m \u001b[49m\u001b[43m_pool\u001b[49m\u001b[38;5;241;43m=\u001b[39;49m\u001b[38;5;28;43mself\u001b[39;49m\u001b[43m,\u001b[49m\u001b[43m \u001b[49m\u001b[43m_stacktrace\u001b[49m\u001b[38;5;241;43m=\u001b[39;49m\u001b[43msys\u001b[49m\u001b[38;5;241;43m.\u001b[39;49m\u001b[43mexc_info\u001b[49m\u001b[43m(\u001b[49m\u001b[43m)\u001b[49m\u001b[43m[\u001b[49m\u001b[38;5;241;43m2\u001b[39;49m\u001b[43m]\u001b[49m\n\u001b[1;32m    787\u001b[0m \u001b[43m\u001b[49m\u001b[43m)\u001b[49m\n\u001b[1;32m    788\u001b[0m retries\u001b[38;5;241m.\u001b[39msleep()\n",
      "File \u001b[0;32m~/.virtualenvs/ml4dm/lib/python3.8/site-packages/urllib3/util/retry.py:592\u001b[0m, in \u001b[0;36mRetry.increment\u001b[0;34m(self, method, url, response, error, _pool, _stacktrace)\u001b[0m\n\u001b[1;32m    591\u001b[0m \u001b[38;5;28;01mif\u001b[39;00m new_retry\u001b[38;5;241m.\u001b[39mis_exhausted():\n\u001b[0;32m--> 592\u001b[0m     \u001b[38;5;28;01mraise\u001b[39;00m MaxRetryError(_pool, url, error \u001b[38;5;129;01mor\u001b[39;00m ResponseError(cause))\n\u001b[1;32m    594\u001b[0m log\u001b[38;5;241m.\u001b[39mdebug(\u001b[38;5;124m\"\u001b[39m\u001b[38;5;124mIncremented Retry for (url=\u001b[39m\u001b[38;5;124m'\u001b[39m\u001b[38;5;132;01m%s\u001b[39;00m\u001b[38;5;124m'\u001b[39m\u001b[38;5;124m): \u001b[39m\u001b[38;5;132;01m%r\u001b[39;00m\u001b[38;5;124m\"\u001b[39m, url, new_retry)\n",
      "\u001b[0;31mMaxRetryError\u001b[0m: HTTPSConnectionPool(host='data-eu.tng-project.org', port=443): Max retries exceeded with url: /cutout/halo/L75n1820TNG/99/0/0.0.0.0.516.0/?token=76e1cfeb25824a31ecc3 (Caused by SSLError(SSLEOFError(8, 'EOF occurred in violation of protocol (_ssl.c:1131)')))",
      "\nDuring handling of the above exception, another exception occurred:\n",
      "\u001b[0;31mSSLError\u001b[0m                                  Traceback (most recent call last)",
      "Input \u001b[0;32mIn [19]\u001b[0m, in \u001b[0;36m<cell line: 25>\u001b[0;34m()\u001b[0m\n\u001b[1;32m    312\u001b[0m M \u001b[38;5;241m=\u001b[39m np\u001b[38;5;241m.\u001b[39marray([\u001b[38;5;28mlen\u001b[39m(np\u001b[38;5;241m.\u001b[39mwhere(np\u001b[38;5;241m.\u001b[39marray(dist) \u001b[38;5;241m<\u001b[39m R)[\u001b[38;5;241m0\u001b[39m]) \u001b[38;5;241m*\u001b[39m M_dm \u001b[38;5;28;01mfor\u001b[39;00m R \u001b[38;5;129;01min\u001b[39;00m R_bins])\n\u001b[1;32m    313\u001b[0m \u001b[38;5;66;03m# ---------------------------------------------------------------------------------------\u001b[39;00m\n\u001b[1;32m    314\u001b[0m \n\u001b[1;32m    315\u001b[0m \u001b[38;5;66;03m# Let's load the stars particles of the halo to which the subhalo belongs\u001b[39;00m\n\u001b[1;32m    316\u001b[0m \u001b[38;5;66;03m#stars_halo = il.snapshot.loadHalo('/home/tnguser/sims.TNG/TNG100-1/output/', 99, gid, 'stars', fields=['Coordinates']) / h\u001b[39;00m\n\u001b[1;32m    317\u001b[0m \u001b[38;5;66;03m#masses = il.snapshot.loadHalo('/home/tnguser/sims.TNG/TNG100-1/output/', 99, gid, 'stars', fields=['Masses']) * 1e10 / h\u001b[39;00m\n\u001b[0;32m--> 318\u001b[0m stars_halo, masses \u001b[38;5;241m=\u001b[39m \u001b[43mget\u001b[49m\u001b[43m(\u001b[49m\u001b[38;5;124;43m'\u001b[39;49m\u001b[38;5;124;43mhttp://www.tng-project.org/api/TNG100-1/snapshots/99/halos/\u001b[39;49m\u001b[38;5;124;43m'\u001b[39;49m\u001b[43m \u001b[49m\u001b[38;5;241;43m+\u001b[39;49m\u001b[43m \u001b[49m\u001b[38;5;28;43mstr\u001b[39;49m\u001b[43m(\u001b[49m\u001b[43mgid\u001b[49m\u001b[43m)\u001b[49m\u001b[43m \u001b[49m\u001b[38;5;241;43m+\u001b[39;49m\u001b[43m \u001b[49m\u001b[38;5;124;43m'\u001b[39;49m\u001b[38;5;124;43m/\u001b[39;49m\u001b[38;5;124;43m'\u001b[39;49m\u001b[43m \u001b[49m\u001b[38;5;241;43m+\u001b[39;49m\u001b[43m \u001b[49m\u001b[38;5;124;43m'\u001b[39;49m\u001b[38;5;124;43mcutout.hdf5\u001b[39;49m\u001b[38;5;124;43m'\u001b[39;49m\u001b[43m,\u001b[49m\u001b[43m \u001b[49m\u001b[43m{\u001b[49m\u001b[38;5;124;43m'\u001b[39;49m\u001b[38;5;124;43mstars\u001b[39;49m\u001b[38;5;124;43m'\u001b[39;49m\u001b[43m:\u001b[49m\u001b[38;5;124;43m'\u001b[39;49m\u001b[38;5;124;43mcoordinates,masses\u001b[39;49m\u001b[38;5;124;43m'\u001b[39;49m\u001b[43m}\u001b[49m\u001b[43m)\u001b[49m\n\u001b[1;32m    319\u001b[0m stars_halo \u001b[38;5;241m=\u001b[39m stars_halo \u001b[38;5;241m/\u001b[39m h\n\u001b[1;32m    320\u001b[0m masses \u001b[38;5;241m=\u001b[39m masses \u001b[38;5;241m*\u001b[39m \u001b[38;5;241m1e10\u001b[39m \u001b[38;5;241m/\u001b[39m h\n",
      "Input \u001b[0;32mIn [2]\u001b[0m, in \u001b[0;36mget\u001b[0;34m(path, params, folderName)\u001b[0m\n\u001b[1;32m      2\u001b[0m \u001b[38;5;124;03m'''\u001b[39;00m\n\u001b[1;32m      3\u001b[0m \u001b[38;5;124;03mIllustris function\u001b[39;00m\n\u001b[1;32m      4\u001b[0m \u001b[38;5;124;03m'''\u001b[39;00m\n\u001b[1;32m      5\u001b[0m \u001b[38;5;66;03m# make HTTP GET request to path\u001b[39;00m\n\u001b[0;32m----> 6\u001b[0m r \u001b[38;5;241m=\u001b[39m \u001b[43mrequests\u001b[49m\u001b[38;5;241;43m.\u001b[39;49m\u001b[43mget\u001b[49m\u001b[43m(\u001b[49m\u001b[43mpath\u001b[49m\u001b[43m,\u001b[49m\u001b[43m \u001b[49m\u001b[43mparams\u001b[49m\u001b[38;5;241;43m=\u001b[39;49m\u001b[43mparams\u001b[49m\u001b[43m,\u001b[49m\u001b[43m \u001b[49m\u001b[43mheaders\u001b[49m\u001b[38;5;241;43m=\u001b[39;49m\u001b[43mheaders\u001b[49m\u001b[43m)\u001b[49m\n\u001b[1;32m      8\u001b[0m \u001b[38;5;66;03m# raise exception if response code is not HTTP SUCCESS (200)\u001b[39;00m\n\u001b[1;32m      9\u001b[0m r\u001b[38;5;241m.\u001b[39mraise_for_status()\n",
      "File \u001b[0;32m~/.virtualenvs/ml4dm/lib/python3.8/site-packages/requests/api.py:75\u001b[0m, in \u001b[0;36mget\u001b[0;34m(url, params, **kwargs)\u001b[0m\n\u001b[1;32m     64\u001b[0m \u001b[38;5;28;01mdef\u001b[39;00m \u001b[38;5;21mget\u001b[39m(url, params\u001b[38;5;241m=\u001b[39m\u001b[38;5;28;01mNone\u001b[39;00m, \u001b[38;5;241m*\u001b[39m\u001b[38;5;241m*\u001b[39mkwargs):\n\u001b[1;32m     65\u001b[0m     \u001b[38;5;124mr\u001b[39m\u001b[38;5;124;03m\"\"\"Sends a GET request.\u001b[39;00m\n\u001b[1;32m     66\u001b[0m \n\u001b[1;32m     67\u001b[0m \u001b[38;5;124;03m    :param url: URL for the new :class:`Request` object.\u001b[39;00m\n\u001b[0;32m   (...)\u001b[0m\n\u001b[1;32m     72\u001b[0m \u001b[38;5;124;03m    :rtype: requests.Response\u001b[39;00m\n\u001b[1;32m     73\u001b[0m \u001b[38;5;124;03m    \"\"\"\u001b[39;00m\n\u001b[0;32m---> 75\u001b[0m     \u001b[38;5;28;01mreturn\u001b[39;00m \u001b[43mrequest\u001b[49m\u001b[43m(\u001b[49m\u001b[38;5;124;43m'\u001b[39;49m\u001b[38;5;124;43mget\u001b[39;49m\u001b[38;5;124;43m'\u001b[39;49m\u001b[43m,\u001b[49m\u001b[43m \u001b[49m\u001b[43murl\u001b[49m\u001b[43m,\u001b[49m\u001b[43m \u001b[49m\u001b[43mparams\u001b[49m\u001b[38;5;241;43m=\u001b[39;49m\u001b[43mparams\u001b[49m\u001b[43m,\u001b[49m\u001b[43m \u001b[49m\u001b[38;5;241;43m*\u001b[39;49m\u001b[38;5;241;43m*\u001b[39;49m\u001b[43mkwargs\u001b[49m\u001b[43m)\u001b[49m\n",
      "File \u001b[0;32m~/.virtualenvs/ml4dm/lib/python3.8/site-packages/requests/api.py:61\u001b[0m, in \u001b[0;36mrequest\u001b[0;34m(method, url, **kwargs)\u001b[0m\n\u001b[1;32m     57\u001b[0m \u001b[38;5;66;03m# By using the 'with' statement we are sure the session is closed, thus we\u001b[39;00m\n\u001b[1;32m     58\u001b[0m \u001b[38;5;66;03m# avoid leaving sockets open which can trigger a ResourceWarning in some\u001b[39;00m\n\u001b[1;32m     59\u001b[0m \u001b[38;5;66;03m# cases, and look like a memory leak in others.\u001b[39;00m\n\u001b[1;32m     60\u001b[0m \u001b[38;5;28;01mwith\u001b[39;00m sessions\u001b[38;5;241m.\u001b[39mSession() \u001b[38;5;28;01mas\u001b[39;00m session:\n\u001b[0;32m---> 61\u001b[0m     \u001b[38;5;28;01mreturn\u001b[39;00m \u001b[43msession\u001b[49m\u001b[38;5;241;43m.\u001b[39;49m\u001b[43mrequest\u001b[49m\u001b[43m(\u001b[49m\u001b[43mmethod\u001b[49m\u001b[38;5;241;43m=\u001b[39;49m\u001b[43mmethod\u001b[49m\u001b[43m,\u001b[49m\u001b[43m \u001b[49m\u001b[43murl\u001b[49m\u001b[38;5;241;43m=\u001b[39;49m\u001b[43murl\u001b[49m\u001b[43m,\u001b[49m\u001b[43m \u001b[49m\u001b[38;5;241;43m*\u001b[39;49m\u001b[38;5;241;43m*\u001b[39;49m\u001b[43mkwargs\u001b[49m\u001b[43m)\u001b[49m\n",
      "File \u001b[0;32m~/.virtualenvs/ml4dm/lib/python3.8/site-packages/requests/sessions.py:529\u001b[0m, in \u001b[0;36mSession.request\u001b[0;34m(self, method, url, params, data, headers, cookies, files, auth, timeout, allow_redirects, proxies, hooks, stream, verify, cert, json)\u001b[0m\n\u001b[1;32m    524\u001b[0m send_kwargs \u001b[38;5;241m=\u001b[39m {\n\u001b[1;32m    525\u001b[0m     \u001b[38;5;124m'\u001b[39m\u001b[38;5;124mtimeout\u001b[39m\u001b[38;5;124m'\u001b[39m: timeout,\n\u001b[1;32m    526\u001b[0m     \u001b[38;5;124m'\u001b[39m\u001b[38;5;124mallow_redirects\u001b[39m\u001b[38;5;124m'\u001b[39m: allow_redirects,\n\u001b[1;32m    527\u001b[0m }\n\u001b[1;32m    528\u001b[0m send_kwargs\u001b[38;5;241m.\u001b[39mupdate(settings)\n\u001b[0;32m--> 529\u001b[0m resp \u001b[38;5;241m=\u001b[39m \u001b[38;5;28;43mself\u001b[39;49m\u001b[38;5;241;43m.\u001b[39;49m\u001b[43msend\u001b[49m\u001b[43m(\u001b[49m\u001b[43mprep\u001b[49m\u001b[43m,\u001b[49m\u001b[43m \u001b[49m\u001b[38;5;241;43m*\u001b[39;49m\u001b[38;5;241;43m*\u001b[39;49m\u001b[43msend_kwargs\u001b[49m\u001b[43m)\u001b[49m\n\u001b[1;32m    531\u001b[0m \u001b[38;5;28;01mreturn\u001b[39;00m resp\n",
      "File \u001b[0;32m~/.virtualenvs/ml4dm/lib/python3.8/site-packages/requests/sessions.py:667\u001b[0m, in \u001b[0;36mSession.send\u001b[0;34m(self, request, **kwargs)\u001b[0m\n\u001b[1;32m    664\u001b[0m \u001b[38;5;28;01mif\u001b[39;00m allow_redirects:\n\u001b[1;32m    665\u001b[0m     \u001b[38;5;66;03m# Redirect resolving generator.\u001b[39;00m\n\u001b[1;32m    666\u001b[0m     gen \u001b[38;5;241m=\u001b[39m \u001b[38;5;28mself\u001b[39m\u001b[38;5;241m.\u001b[39mresolve_redirects(r, request, \u001b[38;5;241m*\u001b[39m\u001b[38;5;241m*\u001b[39mkwargs)\n\u001b[0;32m--> 667\u001b[0m     history \u001b[38;5;241m=\u001b[39m [resp \u001b[38;5;28;01mfor\u001b[39;00m resp \u001b[38;5;129;01min\u001b[39;00m gen]\n\u001b[1;32m    668\u001b[0m \u001b[38;5;28;01melse\u001b[39;00m:\n\u001b[1;32m    669\u001b[0m     history \u001b[38;5;241m=\u001b[39m []\n",
      "File \u001b[0;32m~/.virtualenvs/ml4dm/lib/python3.8/site-packages/requests/sessions.py:667\u001b[0m, in \u001b[0;36m<listcomp>\u001b[0;34m(.0)\u001b[0m\n\u001b[1;32m    664\u001b[0m \u001b[38;5;28;01mif\u001b[39;00m allow_redirects:\n\u001b[1;32m    665\u001b[0m     \u001b[38;5;66;03m# Redirect resolving generator.\u001b[39;00m\n\u001b[1;32m    666\u001b[0m     gen \u001b[38;5;241m=\u001b[39m \u001b[38;5;28mself\u001b[39m\u001b[38;5;241m.\u001b[39mresolve_redirects(r, request, \u001b[38;5;241m*\u001b[39m\u001b[38;5;241m*\u001b[39mkwargs)\n\u001b[0;32m--> 667\u001b[0m     history \u001b[38;5;241m=\u001b[39m [resp \u001b[38;5;28;01mfor\u001b[39;00m resp \u001b[38;5;129;01min\u001b[39;00m gen]\n\u001b[1;32m    668\u001b[0m \u001b[38;5;28;01melse\u001b[39;00m:\n\u001b[1;32m    669\u001b[0m     history \u001b[38;5;241m=\u001b[39m []\n",
      "File \u001b[0;32m~/.virtualenvs/ml4dm/lib/python3.8/site-packages/requests/sessions.py:237\u001b[0m, in \u001b[0;36mSessionRedirectMixin.resolve_redirects\u001b[0;34m(self, resp, req, stream, timeout, verify, cert, proxies, yield_requests, **adapter_kwargs)\u001b[0m\n\u001b[1;32m    234\u001b[0m     \u001b[38;5;28;01myield\u001b[39;00m req\n\u001b[1;32m    235\u001b[0m \u001b[38;5;28;01melse\u001b[39;00m:\n\u001b[0;32m--> 237\u001b[0m     resp \u001b[38;5;241m=\u001b[39m \u001b[38;5;28;43mself\u001b[39;49m\u001b[38;5;241;43m.\u001b[39;49m\u001b[43msend\u001b[49m\u001b[43m(\u001b[49m\n\u001b[1;32m    238\u001b[0m \u001b[43m        \u001b[49m\u001b[43mreq\u001b[49m\u001b[43m,\u001b[49m\n\u001b[1;32m    239\u001b[0m \u001b[43m        \u001b[49m\u001b[43mstream\u001b[49m\u001b[38;5;241;43m=\u001b[39;49m\u001b[43mstream\u001b[49m\u001b[43m,\u001b[49m\n\u001b[1;32m    240\u001b[0m \u001b[43m        \u001b[49m\u001b[43mtimeout\u001b[49m\u001b[38;5;241;43m=\u001b[39;49m\u001b[43mtimeout\u001b[49m\u001b[43m,\u001b[49m\n\u001b[1;32m    241\u001b[0m \u001b[43m        \u001b[49m\u001b[43mverify\u001b[49m\u001b[38;5;241;43m=\u001b[39;49m\u001b[43mverify\u001b[49m\u001b[43m,\u001b[49m\n\u001b[1;32m    242\u001b[0m \u001b[43m        \u001b[49m\u001b[43mcert\u001b[49m\u001b[38;5;241;43m=\u001b[39;49m\u001b[43mcert\u001b[49m\u001b[43m,\u001b[49m\n\u001b[1;32m    243\u001b[0m \u001b[43m        \u001b[49m\u001b[43mproxies\u001b[49m\u001b[38;5;241;43m=\u001b[39;49m\u001b[43mproxies\u001b[49m\u001b[43m,\u001b[49m\n\u001b[1;32m    244\u001b[0m \u001b[43m        \u001b[49m\u001b[43mallow_redirects\u001b[49m\u001b[38;5;241;43m=\u001b[39;49m\u001b[38;5;28;43;01mFalse\u001b[39;49;00m\u001b[43m,\u001b[49m\n\u001b[1;32m    245\u001b[0m \u001b[43m        \u001b[49m\u001b[38;5;241;43m*\u001b[39;49m\u001b[38;5;241;43m*\u001b[39;49m\u001b[43madapter_kwargs\u001b[49m\n\u001b[1;32m    246\u001b[0m \u001b[43m    \u001b[49m\u001b[43m)\u001b[49m\n\u001b[1;32m    248\u001b[0m     extract_cookies_to_jar(\u001b[38;5;28mself\u001b[39m\u001b[38;5;241m.\u001b[39mcookies, prepared_request, resp\u001b[38;5;241m.\u001b[39mraw)\n\u001b[1;32m    250\u001b[0m     \u001b[38;5;66;03m# extract redirect url, if any, for the next loop\u001b[39;00m\n",
      "File \u001b[0;32m~/.virtualenvs/ml4dm/lib/python3.8/site-packages/requests/sessions.py:645\u001b[0m, in \u001b[0;36mSession.send\u001b[0;34m(self, request, **kwargs)\u001b[0m\n\u001b[1;32m    642\u001b[0m start \u001b[38;5;241m=\u001b[39m preferred_clock()\n\u001b[1;32m    644\u001b[0m \u001b[38;5;66;03m# Send the request\u001b[39;00m\n\u001b[0;32m--> 645\u001b[0m r \u001b[38;5;241m=\u001b[39m \u001b[43madapter\u001b[49m\u001b[38;5;241;43m.\u001b[39;49m\u001b[43msend\u001b[49m\u001b[43m(\u001b[49m\u001b[43mrequest\u001b[49m\u001b[43m,\u001b[49m\u001b[43m \u001b[49m\u001b[38;5;241;43m*\u001b[39;49m\u001b[38;5;241;43m*\u001b[39;49m\u001b[43mkwargs\u001b[49m\u001b[43m)\u001b[49m\n\u001b[1;32m    647\u001b[0m \u001b[38;5;66;03m# Total elapsed time of the request (approximately)\u001b[39;00m\n\u001b[1;32m    648\u001b[0m elapsed \u001b[38;5;241m=\u001b[39m preferred_clock() \u001b[38;5;241m-\u001b[39m start\n",
      "File \u001b[0;32m~/.virtualenvs/ml4dm/lib/python3.8/site-packages/requests/adapters.py:517\u001b[0m, in \u001b[0;36mHTTPAdapter.send\u001b[0;34m(self, request, stream, timeout, verify, cert, proxies)\u001b[0m\n\u001b[1;32m    513\u001b[0m         \u001b[38;5;28;01mraise\u001b[39;00m ProxyError(e, request\u001b[38;5;241m=\u001b[39mrequest)\n\u001b[1;32m    515\u001b[0m     \u001b[38;5;28;01mif\u001b[39;00m \u001b[38;5;28misinstance\u001b[39m(e\u001b[38;5;241m.\u001b[39mreason, _SSLError):\n\u001b[1;32m    516\u001b[0m         \u001b[38;5;66;03m# This branch is for urllib3 v1.22 and later.\u001b[39;00m\n\u001b[0;32m--> 517\u001b[0m         \u001b[38;5;28;01mraise\u001b[39;00m SSLError(e, request\u001b[38;5;241m=\u001b[39mrequest)\n\u001b[1;32m    519\u001b[0m     \u001b[38;5;28;01mraise\u001b[39;00m \u001b[38;5;167;01mConnectionError\u001b[39;00m(e, request\u001b[38;5;241m=\u001b[39mrequest)\n\u001b[1;32m    521\u001b[0m \u001b[38;5;28;01mexcept\u001b[39;00m ClosedPoolError \u001b[38;5;28;01mas\u001b[39;00m e:\n",
      "\u001b[0;31mSSLError\u001b[0m: HTTPSConnectionPool(host='data-eu.tng-project.org', port=443): Max retries exceeded with url: /cutout/halo/L75n1820TNG/99/0/0.0.0.0.516.0/?token=76e1cfeb25824a31ecc3 (Caused by SSLError(SSLEOFError(8, 'EOF occurred in violation of protocol (_ssl.c:1131)')))"
     ]
    }
   ],
   "source": [
    "# Initialization of properties \n",
    "properties = np.zeros((nsubhalos, 18))\n",
    "\n",
    "# 0: ID\n",
    "# 1: central (1 if central, 0 if not)\n",
    "# 2: SubMass [Msun]\n",
    "# 3: SubSFR\n",
    "# 4: SubHMR [kPc]\n",
    "# 5: x [kPc]\n",
    "# 6: y [kPc]\n",
    "# 7: z [kPc]\n",
    "# 8: vx [km/s]\n",
    "# 9: vy [km/s]\n",
    "# 10: vz [km/s]\n",
    "# 11: SubVmax [km/s]\n",
    "# 12: SubVmaxR [kPc]\n",
    "# 13: SubHMRG [kPc] Comoving radius containing half of the stars mass of this Subhalo \n",
    "# 14: costheta. Cosine of the angle between the angular momenta and the main axis\n",
    "                # of the inertia tensor.\n",
    "# 15: kappa_AM\n",
    "# 16: kappa_IT\n",
    "# 17: analysis_flag: 1 If everything ended well, 0 otherwise\n",
    "\n",
    "#i = 2\n",
    "for i in tqdm(range(1,nsubhalos)):\n",
    "    ids = subhalos['results'][i]['id']\n",
    "    try:\n",
    "        gr = data.create_group('SubID_' + str(ids))\n",
    "        flag_gr = True\n",
    "    except:\n",
    "        print('Subhalo already exists')\n",
    "        flag_gr = False\n",
    "\n",
    "    if flag_gr:\n",
    "        # Let's load the data of the subhalos\n",
    "        sub_meta = get(subhalos['results'][i]['url'])\n",
    "        # --------------------------------------------------------\n",
    "\n",
    "        # Let's save the main properties  ------------------------           \n",
    "        properties[i, 0] = ids   \n",
    "        gid = sub_meta['grnr']\n",
    "        if gid == ids:\n",
    "            properties[i, 1] = 1\n",
    "        properties[i, 2] = sub_meta['mass'] * 1e10 / h\n",
    "        properties[i, 3] = sub_meta['sfr']\n",
    "        properties[i, 4] = sub_meta['halfmassrad'] / h\n",
    "        properties[i, 5] = sub_meta['pos_x'] / h\n",
    "        properties[i, 6] = sub_meta['pos_y'] / h\n",
    "        properties[i, 7] = sub_meta['pos_z'] / h\n",
    "        properties[i, 8] = sub_meta['vel_x']\n",
    "        properties[i, 9] = sub_meta['vel_y']\n",
    "        properties[i, 10] = sub_meta['vel_z']\n",
    "        properties[i, 11] = sub_meta['vmax']\n",
    "        properties[i, 12] = sub_meta['vmaxrad'] / h\n",
    "        properties[i, 13] = sub_meta['halfmassrad_stars'] / h \n",
    "        # --------------------------------------------------------\n",
    "\n",
    "        # Let's estimate properties with the particles of the subhalos\n",
    "        print('Starting the estimation of properties with subhalo particles for galaxy ' + str(ids))\n",
    "        #try:\n",
    "        \n",
    "        sub_data_url = subhalos['results'][i]['url'] + 'vis.hdf5'\n",
    "        center_sub   = properties[i, 5:8]\n",
    "        velocity     = properties[i, 8:11]\n",
    "\n",
    "        center_sub = np.where(center_sub > 32500, center_sub - 75000, center_sub)\n",
    "        center_sub = np.where(center_sub < -32500, center_sub + 75000, center_sub)\n",
    "\n",
    "        stars_c = get(subhalos['results'][i]['url'] + 'cutout.hdf5', {'stars':'Coordinates'})[0] / h\n",
    "        stars_v = get(subhalos['results'][i]['url'] + 'cutout.hdf5', {'stars':'Velocities'})[0]\n",
    "        stars_m = get(subhalos['results'][i]['url'] + 'cutout.hdf5', {'stars':'Masses'})[0] * 1e10 / h\n",
    "        try:\n",
    "            gas_c   = get(subhalos['results'][i]['url'] + 'cutout.hdf5', {'gas':'Coordinates'})[0] / h\n",
    "            gas_v   = get(subhalos['results'][i]['url'] + 'cutout.hdf5', {'gas':'Velocities'})[0]\n",
    "            gas_m   = get(subhalos['results'][i]['url'] + 'cutout.hdf5', {'gas':'Masses'})[0] * 1e10 / h\n",
    "            flag_gas = True\n",
    "        except:\n",
    "            print('Galaxy ' + str(ids) + ' have no gas')\n",
    "            flag_gas = False\n",
    "        dm_c    = get(subhalos['results'][i]['url'] + 'cutout.hdf5', {'dm':'Coordinates'})[0] / h\n",
    "        dm_v    = get(subhalos['results'][i]['url'] + 'cutout.hdf5', {'dm':'Velocities'})[0]\n",
    "\n",
    "        print('Starting the estimation of properties with subhalo particles for galaxy ' + str(ids))\n",
    "\n",
    "        # Let's move the coordinates if they are near the border\n",
    "        stars_c = np.where(stars_c > 32500, stars_c - 75000, stars_c)\n",
    "        stars_c = np.where(stars_c < -32500, stars_c + 75000, stars_c)\n",
    "        if flag_gas:\n",
    "            gas_c = np.where(gas_c > 32500, gas_c - 75000, gas_c)\n",
    "            gas_c = np.where(gas_c < -32500, gas_c + 75000, gas_c)\n",
    "        dm_c = np.where(dm_c > 32500, dm_c - 75000, dm_c)\n",
    "        dm_c = np.where(dm_c < -32500, dm_c + 75000, dm_c)\n",
    "        # --------------------------------------------------------\n",
    "\n",
    "        # Let's move the coordinates to be center on the subhalo\n",
    "        stars_c = stars_c - center_sub\n",
    "        if flag_gas:\n",
    "            gas_c   = gas_c - center_sub\n",
    "        dm_c    = dm_c - center_sub\n",
    "\n",
    "        stars_v = stars_v - velocity\n",
    "        if flag_gas:\n",
    "            gas_v   = gas_v - velocity\n",
    "        dm_v    = dm_v - velocity\n",
    "        # --------------------------------------------------------\n",
    "\n",
    "        # Let's Compute the distance of each DM particle to the center and sum in radial bins\n",
    "        dist = []\n",
    "        for d in dm_c:\n",
    "            D = np.sqrt(sum([c**2 for c in d]))\n",
    "            if D < 100: dist.append(D)\n",
    "        R_bins = np.geomspace(1, 100, 20)\n",
    "        M = np.array([len(np.where(np.array(dist) < R)[0]) * M_dm for R in R_bins])\n",
    "        # --------------------------------------------------------\n",
    "\n",
    "        # Let's Compute the distance of each star particle to the center and sum in radial bins\n",
    "        dist = []\n",
    "        for d in stars_c:\n",
    "            D = np.sqrt(sum([c**2 for c in d]))\n",
    "            if D < 100: dist.append(D)\n",
    "        M_stars = np.array([np.sum( stars_m[np.where(np.array(dist) < R)[0]] ) for R in R_bins])\n",
    "        # --------------------------------------------------------\n",
    "\n",
    "        # Compute the distance of each particle to the center and sum in radial bins\n",
    "        if flag_gas:\n",
    "            dist = []\n",
    "            for d in gas_c:\n",
    "                D = np.sqrt(sum([c**2 for c in d]))\n",
    "                if D < 100: dist.append(D)\n",
    "            M_gas = np.array([np.sum( gas_m[np.where(np.array(dist) < R)[0]] ) for R in R_bins])\n",
    "        # --------------------------------------------------------\n",
    "\n",
    "        # Let's save the data of these profiles\n",
    "        gr.create_dataset('R_bins_sub', data = R_bins)\n",
    "        gr.create_dataset('M_DM_sub', data = M)\n",
    "        gr.create_dataset('M_stars_sub', data = M_stars)   \n",
    "        if flag_gas:\n",
    "            gr.create_dataset('M_gas_sub', data = M_gas)\n",
    "        # --------------------------------------------------------\n",
    "\n",
    "        # Let's compute the rotation matrix taking into accunt the inertia tensor\n",
    "        rot_mat_IT, L_IT = compute_rot_mat_inertia(stars_c, stars_m, Rmax = 2 * properties[i, 13])\n",
    "        # --------------------------------------------------------\n",
    "\n",
    "        # Let's compute the rotation matrix taking into accunt the angular momentum tensor\n",
    "        rot_mat_AM, L_AM = compute_rot_mat_angMom(stars_c, stars_v, stars_m, Rmax = 2 * properties[i, 13])\n",
    "        # --------------------------------------------------------\n",
    "\n",
    "        # Let's rotate the coordiantes with AM\n",
    "        dm_c_rot_AM = dm_c @ rot_mat_AM\n",
    "        dm_v_rot_AM = dm_v @ rot_mat_AM\n",
    "        stars_c_rot_AM = stars_c @ rot_mat_AM\n",
    "        stars_v_rot_AM = stars_v @ rot_mat_AM\n",
    "        if flag_gas:\n",
    "            gas_c_rot_AM = gas_c @ rot_mat_AM\n",
    "            gas_v_rot_AM = gas_v @ rot_mat_AM\n",
    "\n",
    "        L_AM_rot_AM = L_AM @ rot_mat_AM\n",
    "        L_IT_rot_AM = L_IT @ rot_mat_AM\n",
    "        # --------------------------------------------------------\n",
    "\n",
    "        # Let's rotate the coordiantes with IT\n",
    "        dm_c_rot_IT = dm_c @ rot_mat_IT\n",
    "        dm_v_rotv = dm_v @ rot_mat_IT\n",
    "        stars_c_rot_IT = stars_c @ rot_mat_IT\n",
    "        stars_v_rot_IT = stars_v @ rot_mat_IT\n",
    "        if flag_gas:\n",
    "            gas_c_rot_IT = gas_c @ rot_mat_IT\n",
    "            gas_v_rot_IT = gas_v @ rot_mat_IT\n",
    "\n",
    "        L_AM_rot_IT = L_AM @ rot_mat_IT\n",
    "        L_IT_rot_IT = L_IT @ rot_mat_IT\n",
    "        # --------------------------------------------------------\n",
    "\n",
    "        # Let's aligendthe stars with the IT\n",
    "        x_stars_IT  = stars_c_rot_IT[:,0]\n",
    "        y_stars_IT  = stars_c_rot_IT[:,1]\n",
    "        z_stars_IT  = stars_c_rot_IT[:,2]\n",
    "        vx_stars_IT = stars_v_rot_IT[:,0]\n",
    "        vy_stars_IT = stars_v_rot_IT[:,1]\n",
    "        vz_stars_IT = stars_v_rot_IT[:,2]\n",
    "        # --------------------------------------------------------\n",
    "\n",
    "\n",
    "        # Let's move to cylindrical coordinates and the kinematical properties\n",
    "        r_stars_IT         = np.sqrt(x_stars_IT**2 + y_stars_IT**2)\n",
    "        phi_stars_IT       = np.arctan2(y_stars_IT, x_stars_IT)\n",
    "        jz_stars_IT        = x_stars_IT * vy_stars_IT - y_stars_IT * vx_stars_IT\n",
    "        Erot_stars_IT      = stars_m * (jz_stars_IT**2) / (r_stars_IT**2)\n",
    "        Ek_stars_IT        = stars_m * (vx_stars_IT**2 + vy_stars_IT**2 + vz_stars_IT**2)\n",
    "        kappa_stars_IT     = np.sum(Erot_stars_IT) / np.sum(Ek_stars_IT)\n",
    "        vphi_full_stars_IT = jz_stars_IT / r_stars_IT\n",
    "        # --------------------------------------------------------\n",
    "\n",
    "\n",
    "        # Now aligend the stars with the AM\n",
    "\n",
    "        x_stars_AM  = stars_c_rot_AM[:,0]\n",
    "        y_stars_AM  = stars_c_rot_AM[:,1]\n",
    "        z_stars_AM  = stars_c_rot_AM[:,2]\n",
    "        vx_stars_AM = stars_v_rot_AM[:,0]\n",
    "        vy_stars_AM = stars_v_rot_AM[:,1]\n",
    "        vz_stars_AM = stars_v_rot_AM[:,2]\n",
    "        # --------------------------------------------------------\n",
    "\n",
    "        # Let's move to cylindrical coordinates and the kinematical properties\n",
    "        r_stars_AM     = np.sqrt(x_stars_AM**2 + y_stars_AM**2)\n",
    "        phi_stars_AM   = np.arctan2(y_stars_AM, x_stars_AM)\n",
    "        jz_stars_AM    = x_stars_AM * vy_stars_AM - y_stars_AM * vx_stars_AM\n",
    "        Erot_stars_AM  = stars_m * (jz_stars_AM**2) / (r_stars_AM**2)\n",
    "        Ek_stars_AM    = stars_m * (vx_stars_AM**2 + vy_stars_AM**2 + vz_stars_AM**2)\n",
    "        kappa_stars_AM = np.sum(Erot_stars_AM) / np.sum(Ek_stars_AM)\n",
    "        vphi_full_stars_AM = jz_stars_AM / r_stars_AM\n",
    "        # --------------------------------------------------------\n",
    "\n",
    "        # Let's save the main properties\n",
    "        properties[i, 14] = np.dot(L_IT, L_AM) / ( np.linalg.norm(L_IT) * np.linalg.norm(L_AM) )\n",
    "        properties[i, 15] = kappa_stars_AM\n",
    "        properties[i, 16] = kappa_stars_IT\n",
    "        # --------------------------------------------------------\n",
    "\n",
    "        # Let's compute rotation curve with gas\n",
    "\n",
    "        # Let's aligend the gas with the IT\n",
    "        if flag_gas:\n",
    "            x_gas_IT  = gas_c_rot_IT[:,0]\n",
    "            y_gas_IT  = gas_c_rot_IT[:,1]\n",
    "            z_gas_IT  = gas_c_rot_IT[:,2]\n",
    "            vx_gas_IT = gas_v_rot_IT[:,0]\n",
    "            vy_gas_IT = gas_v_rot_IT[:,1]\n",
    "            vz_gas_IT = gas_v_rot_IT[:,2]\n",
    "            # --------------------------------------------------------\n",
    "\n",
    "            # Let's move to cylindrical coordinates and compute the kinematical properties\n",
    "            r_gas_IT         = np.sqrt(x_gas_IT**2 + y_gas_IT**2)\n",
    "            phi_gas_IT       = np.arctan2(y_gas_IT, x_gas_IT)\n",
    "            jz_gas_IT        = x_gas_IT * vy_gas_IT - y_gas_IT * vx_gas_IT\n",
    "            Erot_gas_IT      = gas_m * (jz_gas_IT**2) / (r_gas_IT**2)\n",
    "            Ek_gas_IT        = gas_m * (vx_gas_IT**2 + vy_gas_IT**2 + vz_gas_IT**2)\n",
    "            kappa_gas_IT     = np.sum(Erot_gas_IT) / np.sum(Ek_gas_IT)\n",
    "            vphi_full_gas_IT = jz_gas_IT / r_gas_IT\n",
    "            # --------------------------------------------------------\n",
    "\n",
    "            # Now let's aligend the gas with the AM\n",
    "\n",
    "            x_gas_AM  = gas_c_rot_AM[:,0]\n",
    "            y_gas_AM  = gas_c_rot_AM[:,1]\n",
    "            z_gas_AM  = gas_c_rot_AM[:,2]\n",
    "            vx_gas_AM = gas_v_rot_AM[:,0]\n",
    "            vy_gas_AM = gas_v_rot_AM[:,1]\n",
    "            vz_gas_AM = gas_v_rot_AM[:,2]\n",
    "\n",
    "            # Let's move to cylindrical coordinates and compute the kinematical properties\n",
    "            r_gas_AM     = np.sqrt(x_gas_AM**2 + y_gas_AM**2)\n",
    "            phi_gas_AM   = np.arctan2(y_gas_AM, x_gas_AM)\n",
    "            jz_gas_AM    = x_gas_AM * vy_gas_AM - y_gas_AM * vx_gas_AM\n",
    "            Erot_gas_AM  = gas_m * (jz_gas_AM**2) / (r_gas_AM**2)\n",
    "            Ek_gas_AM    = gas_m * (vx_gas_AM**2 + vy_gas_AM**2 + vz_gas_AM**2)\n",
    "            kappa_gas_AM = np.sum(Erot_gas_AM) / np.sum(Ek_gas_AM)\n",
    "            vphi_full_gas_AM = jz_gas_AM / r_gas_AM\n",
    "            # --------------------------------------------------------\n",
    "\n",
    "            # Let's compute the binned rotational curves and saved it\n",
    "            v_rot_gas_IT, bin_edges,_ = binned_statistic(r_gas_IT, np.abs(vphi_full_gas_IT), 'mean', bins = R_bins)\n",
    "            v_std_gas_IT,_,_ = binned_statistic(r_gas_IT, np.abs(vphi_full_gas_IT), 'std', bins = R_bins)\n",
    "            v_rot_gas_AM,_,_ = binned_statistic(r_gas_AM, np.abs(vphi_full_gas_AM), 'mean', bins = R_bins)\n",
    "            v_std_gas_AM,_,_ = binned_statistic(r_gas_AM, np.abs(vphi_full_gas_IT), 'std', bins = R_bins)\n",
    "\n",
    "        v_rot_stars_IT, bin_edges,_  = binned_statistic(r_stars_IT, np.abs(vphi_full_stars_IT), 'mean', bins = R_bins)\n",
    "        v_std_stars_IT,_,_ = binned_statistic(r_stars_IT, np.abs(vphi_full_stars_IT), 'std', bins = R_bins)\n",
    "        v_rot_stars_AM,_,_ = binned_statistic(r_stars_AM, np.abs(vphi_full_stars_AM), 'mean', bins = R_bins)\n",
    "        v_std_stars_AM,_,_ = binned_statistic(r_stars_AM, np.abs(vphi_full_stars_AM), 'std', bins = R_bins)\n",
    "\n",
    "        bin_width = (bin_edges[1] - bin_edges[0])\n",
    "        bin_centers = bin_edges[1:] - bin_width/2\n",
    "\n",
    "        gr.create_dataset('R_bins_vels', data = bin_centers)\n",
    "        if flag_gas:\n",
    "            gr.create_dataset('V_rot_gas_IT', data = v_rot_gas_IT)\n",
    "            gr.create_dataset('V_std_gas_IT', data = v_std_gas_IT)\n",
    "            gr.create_dataset('V_rot_gas_AM', data = v_rot_gas_AM)\n",
    "            gr.create_dataset('V_std_gas_AM', data = v_std_gas_AM)\n",
    "        gr.create_dataset('V_rot_stars_IT', data = v_rot_stars_IT)\n",
    "        gr.create_dataset('V_std_stars_IT', data = v_std_stars_IT)\n",
    "        gr.create_dataset('V_rot_stars_AM', data = v_rot_stars_AM)\n",
    "        gr.create_dataset('V_std_stars_AM', data = v_std_stars_AM)\n",
    "        # ---------------------------------------------------------------------------------------\n",
    "\n",
    "        # Let's estimate the real profiles taking into account the halo\n",
    "        print('Starting the estimation of properties with halo particles for galaxy ' + str(ids))\n",
    "\n",
    "        # Let's load the DM particles of the halo to which the subhalo belongs\n",
    "        #dm_halo = il.snapshot.loadHalo('/home/tnguser/sims.TNG/TNG100-1/output/', 99, gid, 'dm', fields=['Coordinates']) / h # If you have tng local files\n",
    "        dm_halo = get('http://www.tng-project.org/api/TNG100-1/snapshots/99/halos/' + str(gid) + '/' + 'cutout.hdf5', {'dm':'Coordinates'})[0] / h\n",
    "        # ---------------------------------------------------------------------------------------\n",
    "\n",
    "        # If the halo is near the border let's center it\n",
    "        dm_halo = np.where(dm_halo > 32500, dm_halo - 75000, dm_halo) \n",
    "        dm_halo = np.where(dm_halo < -32500, dm_halo + 75000, dm_halo)\n",
    "        # ---------------------------------------------------------------------------------------\n",
    "\n",
    "        # Now let's put the dm particle coordinates with respect to the center of the halo\n",
    "        dm_halo = dm_halo - center_sub\n",
    "        # ---------------------------------------------------------------------------------------\n",
    "\n",
    "        # Compute the distance of each particle to the center and sum in radial bins\n",
    "        dist = []\n",
    "        for d in dm_halo:\n",
    "            D = np.sqrt(sum([c**2 for c in d]))\n",
    "            if D < 100: dist.append(D)\n",
    "        R_bins = np.geomspace(1, 100, 20)\n",
    "        M = np.array([len(np.where(np.array(dist) < R)[0]) * M_dm for R in R_bins])\n",
    "        # ---------------------------------------------------------------------------------------\n",
    "\n",
    "        # Let's load the stars particles of the halo to which the subhalo belongs\n",
    "        #stars_halo = il.snapshot.loadHalo('/home/tnguser/sims.TNG/TNG100-1/output/', 99, gid, 'stars', fields=['Coordinates']) / h\n",
    "        #masses = il.snapshot.loadHalo('/home/tnguser/sims.TNG/TNG100-1/output/', 99, gid, 'stars', fields=['Masses']) * 1e10 / h\n",
    "        stars_halo, masses = get('http://www.tng-project.org/api/TNG100-1/snapshots/99/halos/' + str(gid) + '/' + 'cutout.hdf5', {'stars':'coordinates,masses'})\n",
    "        stars_halo = stars_halo / h\n",
    "        masses = masses * 1e10 / h\n",
    "        # ---------------------------------------------------------------------------------------\n",
    "\n",
    "        # If the halo is near the border let's center it\n",
    "        stars_halo = np.where(stars_halo > 32500, stars_halo - 75000, stars_halo)\n",
    "        stars_halo = np.where(stars_halo < -32500, stars_halo + 75000, stars_halo)\n",
    "        # ---------------------------------------------------------------------------------------\n",
    "\n",
    "        # Now let's put the stars particle coordinates with respect to the center of the halo\n",
    "        stars_halo = stars_halo - center_sub\n",
    "        # ---------------------------------------------------------------------------------------\n",
    "\n",
    "        # Compute the distance of each particle to the center and sum in radial bins\n",
    "        dist = []\n",
    "        for d in stars_halo:\n",
    "            D = np.sqrt(sum([c**2 for c in d]))\n",
    "            if D < 100: dist.append(D)\n",
    "        M_stars = np.array([np.sum( masses[np.where(np.array(dist) < R)[0]] ) for R in R_bins])\n",
    "        # ---------------------------------------------------------------------------------------\n",
    "\n",
    "        # Let's load the stars particles of the halo to which the subhalo belongs\n",
    "        #gas_halo = il.snapshot.loadHalo('/home/tnguser/sims.TNG/TNG100-1/output/', 99, gid, 'gas', fields=['Coordinates']) / h\n",
    "        #masses = il.snapshot.loadHalo('/home/tnguser/sims.TNG/TNG100-1/output/', 99, gid, 'gas', fields=['Masses']) * 1e10 / h\n",
    "        gas_halo, masses = get('http://www.tng-project.org/api/TNG100-1/snapshots/99/halos/' + str(gid) + '/' + 'cutout.hdf5', {'gas':'coordinates,masses'})\n",
    "        gas_halo = gas_halo / h\n",
    "        masses   = masses * 1e10 / h\n",
    "        # ---------------------------------------------------------------------------------------\n",
    "\n",
    "        # If the halo is near the border let's center it\n",
    "        gas_halo = np.where(gas_halo > 32500, gas_halo - 75000, gas_halo)\n",
    "        gas_halo = np.where(gas_halo < -32500, gas_halo + 75000, gas_halo)\n",
    "        # ---------------------------------------------------------------------------------------\n",
    "\n",
    "        # Now let's put the stars particle coordinates with respect to the center of the halo\n",
    "        gas_halo = gas_halo - center_sub\n",
    "        # ---------------------------------------------------------------------------------------\n",
    "\n",
    "        # Compute the distance of each particle to the center and sum in radial bins\n",
    "        dist = []\n",
    "        for d in gas_halo:\n",
    "            D = np.sqrt(sum([c**2 for c in d]))\n",
    "            if D < 100: dist.append(D)\n",
    "        M_gas = np.array([np.sum( masses[np.where(np.array(dist) < R)[0]] ) for R in R_bins])\n",
    "\n",
    "        gr.create_dataset('R_bins', data = R_bins)\n",
    "        gr.create_dataset('M_DM', data = M)\n",
    "        gr.create_dataset('M_stars', data = M_stars)   \n",
    "        gr.create_dataset('M_gas', data = M_gas)\n",
    "        # ---------------------------------------------------------------------------------------\n",
    "        \n",
    "        # Analysis flag:\n",
    "        properties[i, 17] = 1\n",
    "        # ---------------------------------------------------------------------------------------\n",
    "\n",
    "        if (i % 10) == 0:\n",
    "            print('Saving properties-----')\n",
    "            # After 10 subhalos let's save the data and start again\n",
    "            properties = np.delete(properties, np.where(properties[:,2] == 0)[0], axis = 0)\n",
    "\n",
    "            if len(properties[:,0] > 0):\n",
    "                if flag_MainProps:\n",
    "                    properties = np.vstack((old_MainProps, properties))\n",
    "                    del data['MainProps']\n",
    "                    data.create_dataset('MainProps', data = properties)\n",
    "                else:\n",
    "                    data.create_dataset('MainProps', data = properties)\n",
    "            data.close()\n",
    "            data = h5py.File('../data/gals_properties.h5', 'a')\n",
    "            try:\n",
    "                flag_MainProps = True\n",
    "                old_MainProps = data['MainProps'][()]\n",
    "            except:\n",
    "                flag_MainProps = False\n",
    "            properties = np.zeros((nsubhalos, 18))"
   ]
  },
  {
   "cell_type": "code",
   "execution_count": null,
   "metadata": {},
   "outputs": [],
   "source": []
  }
 ],
 "metadata": {
  "kernelspec": {
   "display_name": "Python 3 (ipykernel)",
   "language": "python",
   "name": "python3"
  },
  "language_info": {
   "codemirror_mode": {
    "name": "ipython",
    "version": 3
   },
   "file_extension": ".py",
   "mimetype": "text/x-python",
   "name": "python",
   "nbconvert_exporter": "python",
   "pygments_lexer": "ipython3",
   "version": "3.8.10"
  }
 },
 "nbformat": 4,
 "nbformat_minor": 4
}
